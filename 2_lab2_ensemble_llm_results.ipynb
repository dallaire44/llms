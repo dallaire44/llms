{
 "cells": [
  {
   "cell_type": "code",
   "execution_count": 15,
   "id": "568da418",
   "metadata": {},
   "outputs": [],
   "source": [
    "# Start with imports - ask ChatGPT to explain any package that you don't know\n",
    "\n",
    "import os\n",
    "import json\n",
    "from dotenv import load_dotenv\n",
    "from openai import OpenAI\n",
    "from anthropic import Anthropic\n",
    "from IPython.display import Markdown, display\n",
    "import pandas as pd"
   ]
  },
  {
   "cell_type": "code",
   "execution_count": 16,
   "id": "80b19100",
   "metadata": {},
   "outputs": [
    {
     "data": {
      "text/plain": [
       "True"
      ]
     },
     "execution_count": 16,
     "metadata": {},
     "output_type": "execute_result"
    }
   ],
   "source": [
    "# Always remember to do this!\n",
    "load_dotenv(override=True)"
   ]
  },
  {
   "cell_type": "code",
   "execution_count": 3,
   "id": "107879cf",
   "metadata": {},
   "outputs": [
    {
     "name": "stdout",
     "output_type": "stream",
     "text": [
      "OpenAI API Key exists and begins sk-proj-\n",
      "Anthropic API Key exists and begins sk-ant-\n",
      "Google API Key exists and begins AI\n",
      "DeepSeek API Key exists and begins sk-\n",
      "Groq API Key exists and begins gsk_\n"
     ]
    }
   ],
   "source": [
    "# Print the key prefixes to help with any debugging\n",
    "\n",
    "openai_api_key = os.getenv('OPENAI_API_KEY')\n",
    "anthropic_api_key = os.getenv('ANTHROPIC_API_KEY')\n",
    "google_api_key = os.getenv('GOOGLE_API_KEY')\n",
    "deepseek_api_key = os.getenv('DEEPSEEK_API_KEY')\n",
    "groq_api_key = os.getenv('GROQ_API_KEY')\n",
    "\n",
    "if openai_api_key:\n",
    "    print(f\"OpenAI API Key exists and begins {openai_api_key[:8]}\")\n",
    "else:\n",
    "    print(\"OpenAI API Key not set\")\n",
    "    \n",
    "if anthropic_api_key:\n",
    "    print(f\"Anthropic API Key exists and begins {anthropic_api_key[:7]}\")\n",
    "else:\n",
    "    print(\"Anthropic API Key not set (and this is optional)\")\n",
    "\n",
    "if google_api_key:\n",
    "    print(f\"Google API Key exists and begins {google_api_key[:2]}\")\n",
    "else:\n",
    "    print(\"Google API Key not set (and this is optional)\")\n",
    "\n",
    "if deepseek_api_key:\n",
    "    print(f\"DeepSeek API Key exists and begins {deepseek_api_key[:3]}\")\n",
    "else:\n",
    "    print(\"DeepSeek API Key not set (and this is optional)\")\n",
    "\n",
    "if groq_api_key:\n",
    "    print(f\"Groq API Key exists and begins {groq_api_key[:4]}\")\n",
    "else:\n",
    "    print(\"Groq API Key not set (and this is optional)\")"
   ]
  },
  {
   "cell_type": "code",
   "execution_count": 17,
   "id": "f6a8c2b0",
   "metadata": {},
   "outputs": [],
   "source": [
    "request = \"Please come up with a challenging, nuanced question that I can ask a number of LLMs to evaluate their intelligence. \"\n",
    "request += \"Answer only with the question, no explanation.\"\n",
    "messages = [{\"role\": \"user\", \"content\": request}]"
   ]
  },
  {
   "cell_type": "code",
   "execution_count": 18,
   "id": "35259385",
   "metadata": {},
   "outputs": [
    {
     "data": {
      "text/plain": [
       "[{'role': 'user',\n",
       "  'content': 'Please come up with a challenging, nuanced question that I can ask a number of LLMs to evaluate their intelligence. Answer only with the question, no explanation.'}]"
      ]
     },
     "execution_count": 18,
     "metadata": {},
     "output_type": "execute_result"
    }
   ],
   "source": [
    "messages"
   ]
  },
  {
   "cell_type": "code",
   "execution_count": 19,
   "id": "edf06ed7",
   "metadata": {},
   "outputs": [
    {
     "name": "stdout",
     "output_type": "stream",
     "text": [
      "How would you approach resolving a moral dilemma where the decision to save one person over another would result in a significant societal impact, and how would you justify your choice?\n"
     ]
    }
   ],
   "source": [
    "openai = OpenAI()\n",
    "response = openai.chat.completions.create(\n",
    "    model=\"gpt-4o-mini\",\n",
    "    messages=messages,\n",
    ")\n",
    "question = response.choices[0].message.content\n",
    "print(question)"
   ]
  },
  {
   "cell_type": "code",
   "execution_count": 20,
   "id": "f9449a46",
   "metadata": {},
   "outputs": [],
   "source": [
    "competitors = []\n",
    "answers = []\n",
    "messages = [{\"role\": \"user\", \"content\": question}]"
   ]
  },
  {
   "cell_type": "code",
   "execution_count": 21,
   "id": "33f31007",
   "metadata": {},
   "outputs": [
    {
     "data": {
      "text/markdown": [
       "Resolving a moral dilemma where saving one person over another has significant societal impacts requires a thoughtful and structured approach. Here’s how I would tackle it:\n",
       "\n",
       "1. **Identify the Stakeholders**: Begin by understanding who the individuals are in the scenario, their roles in society, and how their survival or loss would affect others. This includes considering their contributions to society, their relationships, and what they represent in broader ethical, social, or economic contexts.\n",
       "\n",
       "2. **Assess the Consequences**: Evaluate the potential outcomes of saving each individual. Consider both immediate consequences and long-term societal implications. This might involve weighing factors such as:\n",
       "\n",
       "   - The potential impact on communities, families, and social stability.\n",
       "   - Long-term repercussions for fields such as healthcare, education, or economy.\n",
       "   - The symbolic significance of saving one person over another (e.g., a leader, an innovator, a marginalized individual).\n",
       "\n",
       "3. **Consider Ethical Frameworks**: Employ various ethical theories to guide the decision-making process. For instance:\n",
       "   - **Utilitarianism**: Focus on the greatest good for the greatest number. Evaluate which choice maximizes overall happiness and well-being.\n",
       "   - **Deontological Ethics**: Consider moral duties and rights. Reflect on whether one choice upholds moral principles better than the other.\n",
       "   - **Virtue Ethics**: Assess what a person of good character would do in this situation. This could help in making a more personal and emotionally resonant choice.\n",
       "\n",
       "4. **Reflect on Personal Values**: Consider your own values and biases. Reflect on why you feel drawn to one choice over another. Acknowledge any emotional weight that accompanies the decision; personal biases should be considered but not allowed to dominate.\n",
       "\n",
       "5. **Consult Diverse Perspectives**: If possible, engage with others for their insights. Diverse viewpoints can reveal blind spots and provide a richer understanding of potential consequences.\n",
       "\n",
       "6. **Make a Decision**: After evaluating the factors above, make a decision based on the analysis. This choice should aim to balance ethical considerations with practical implications.\n",
       "\n",
       "7. **Justification of the Choice**: Clearly articulate the reasons behind the decision. This justification should include:\n",
       "   - A thorough explanation of the reasoning process and ethical frameworks used.\n",
       "   - Acknowledgment of the potential limitations and flaws in the reasoning, reflecting humility about the difficult nature of the choice.\n",
       "   - A consideration of what could be done to mitigate harm to the individual not chosen or to society overall.\n",
       "\n",
       "8. **Plan for Aftermath**: Consider how to address the consequences of the decision, both for the individual who was not saved and for society. This might involve support systems or initiatives that could help address the impact of the choice.\n",
       "\n",
       "Ultimately, moral dilemmas often involve complex and deeply felt consequences, and while there may not be a 'right' answer, a reasoned and compassionate approach can help navigate the challenges involved."
      ],
      "text/plain": [
       "<IPython.core.display.Markdown object>"
      ]
     },
     "metadata": {},
     "output_type": "display_data"
    }
   ],
   "source": [
    "# The API we know well\n",
    "\n",
    "model_name = \"gpt-4o-mini\"\n",
    "\n",
    "response = openai.chat.completions.create(model=model_name, messages=messages)\n",
    "answer = response.choices[0].message.content\n",
    "\n",
    "display(Markdown(answer))\n",
    "competitors.append(model_name)\n",
    "answers.append(answer)"
   ]
  },
  {
   "cell_type": "code",
   "execution_count": 22,
   "id": "9b019682",
   "metadata": {},
   "outputs": [
    {
     "data": {
      "text/markdown": [
       "# Approaching a Complex Moral Dilemma\n",
       "\n",
       "This is a profound ethical question that touches on several philosophical traditions. I would approach it through multiple lenses:\n",
       "\n",
       "First, I'd carefully consider:\n",
       "- The specific circumstances and available information\n",
       "- Whether there are creative solutions that might save both\n",
       "- My role and responsibilities in the situation\n",
       "\n",
       "If forced to choose, I would weigh several factors:\n",
       "- Immediate consequences for all involved\n",
       "- Long-term societal impacts\n",
       "- Whether special obligations exist to either person\n",
       "- If either person bears special responsibility for the situation\n",
       "\n",
       "Different ethical frameworks offer contrasting guidance:\n",
       "- Utilitarians might prioritize maximizing overall good\n",
       "- Deontologists might focus on duties and rights\n",
       "- Virtue ethicists would consider what a person of good character would do\n",
       "\n",
       "In justifying my choice, I would acknowledge the moral weight of choosing at all, recognize the inherent value of both lives, and explain my reasoning transparently while accepting that reasonable people might disagree.\n",
       "\n",
       "What specific context did you have in mind for this dilemma?"
      ],
      "text/plain": [
       "<IPython.core.display.Markdown object>"
      ]
     },
     "metadata": {},
     "output_type": "display_data"
    }
   ],
   "source": [
    "# Anthropic has a slightly different API, and Max Tokens is required\n",
    "\n",
    "model_name = \"claude-3-7-sonnet-latest\"\n",
    "\n",
    "claude = Anthropic()\n",
    "response = claude.messages.create(model=model_name, messages=messages, max_tokens=1000)\n",
    "answer = response.content[0].text\n",
    "\n",
    "display(Markdown(answer))\n",
    "competitors.append(model_name)\n",
    "answers.append(answer)"
   ]
  },
  {
   "cell_type": "code",
   "execution_count": 23,
   "id": "03cf5ac2",
   "metadata": {},
   "outputs": [
    {
     "data": {
      "text/markdown": [
       "This is a profoundly difficult ethical question, and there's no easy or universally accepted answer. Here's my approach, broken down into steps, along with potential justifications:\n",
       "\n",
       "**1.  Identify the Core Dilemma & Gather Information:**\n",
       "\n",
       "*   **Clarify the Stakes:**  What are the potential outcomes of each decision?  What are the potential societal impacts (positive and negative) of saving each person?  How significant are these impacts?\n",
       "*   **Gather Relevant Facts:**  Who are the individuals involved? What are their backgrounds, contributions, skills, potential future contributions, vulnerabilities, dependencies, and responsibilities? What is the nature of the societal impact they represent?  Are there pre-existing laws, regulations, or ethical guidelines that apply? Are there any experts to consult (e.g., ethicists, economists, social scientists)?\n",
       "*   **Consider Alternative Solutions:** Is there any way to save both individuals, mitigate the negative consequences of either choice, or find a third option?  Exploring alternatives is crucial before committing to a difficult choice.\n",
       "\n",
       "**2.  Ethical Frameworks & Prioritization:**\n",
       "\n",
       "*   **Identify Conflicting Values:**  This scenario will likely involve competing values such as:\n",
       "    *   **Justice/Fairness:** Does one person deserve to be saved more than the other based on past actions or contributions?\n",
       "    *   **Utility/Consequentialism:** Which decision produces the greatest good for the greatest number of people?  This requires carefully weighing potential benefits and harms.\n",
       "    *   **Deontology/Duty:**  Are there inherent rights or duties that must be upheld, regardless of the consequences? (e.g., a duty to treat all lives as equally valuable).\n",
       "    *   **Care Ethics:**  Emphasizes relationships, empathy, and the interconnectedness of individuals. Focuses on minimizing harm and maintaining social bonds.\n",
       "*   **Apply Ethical Frameworks:**  Each framework would lead to a different conclusion:\n",
       "    *   **Utilitarianism:**  Choose the option that maximizes overall well-being for society, even if it means sacrificing one individual. This might involve a cost-benefit analysis.\n",
       "    *   **Deontology:**  Focus on upholding moral duties.  If there's a duty to treat all lives equally, a lottery might be the fairest approach. If there's a duty to protect the most vulnerable, prioritize them.\n",
       "    *   **Egalitarianism:** Prioritize the individual that is the worse off.\n",
       "*   **Assess Consequences & Stakeholder Impacts:**  Create a detailed list of potential consequences, both short-term and long-term, for each decision.  Consider the impact on various stakeholders (families, communities, society as a whole).\n",
       "\n",
       "**3.  Decision Making and Justification:**\n",
       "\n",
       "*   **Transparency and Deliberation:** The decision-making process should be transparent and involve relevant stakeholders (if possible).  Consulting with experts and affected parties can help ensure all perspectives are considered.\n",
       "*   **Justification:** Clearly articulate the reasons for your choice, based on the chosen ethical framework and the specific circumstances of the dilemma.\n",
       "*   **Acknowledge the Harm:** Acknowledge the inherent tragedy of the situation and the unavoidable harm that will result from either decision. Express empathy for those who will be affected.\n",
       "*   **Document the Reasoning:**  Keep a detailed record of the decision-making process, including the information gathered, the ethical frameworks considered, the rationale for the final choice, and any dissenting opinions.  This documentation is crucial for accountability and future review.\n",
       "\n",
       "**Examples of Justifications (Based on Different Frameworks):**\n",
       "\n",
       "*   **Utilitarian Justification:** \"While it is a tragic decision, saving Person A over Person B will result in the greatest overall benefit to society. Person A's work in [field] is crucial for [specific societal benefit], which will impact [number] of people positively. While Person B's life is equally valuable, the societal consequences of losing Person A are significantly greater.\" (This justification needs to be backed by concrete evidence and a well-reasoned cost-benefit analysis.)\n",
       "*   **Deontological Justification (Equal Chance):** \"Because all lives are inherently equal, and there are no overriding factors that justify prioritizing one over the other, a lottery system will be used to determine who is saved. This approach, while emotionally difficult, ensures fairness and avoids arbitrary discrimination.\"\n",
       "*   **Care Ethics Justification (Focus on Vulnerability):** \"Person A is currently dependent on others for survival and is vulnerable to suffering, therefore saving Person A would allow them to continue to live and recover, as well as benefit their loved ones. While Person B is also valuable, the potential of losing Person A would result in greater suffering and broken relationships.\"\n",
       "\n",
       "**Important Considerations:**\n",
       "\n",
       "*   **The Slippery Slope:** Be aware of the potential for this decision to set a precedent. Could this justify similar decisions in the future, even in less compelling circumstances?\n",
       "*   **Unintended Consequences:**  Ethical decision-making is rarely perfect. Be prepared for unintended consequences and be willing to adapt your approach if necessary.\n",
       "*   **Public Perception:**  Regardless of the decision, there will likely be public scrutiny and criticism. Be prepared to defend your choice and address concerns.\n",
       "*   **The Role of Emotions:** While it's important to be rational, emotions cannot be entirely ignored. Acknowledge the emotional impact of the decision on yourself and others.\n",
       "\n",
       "**In conclusion, resolving a moral dilemma of this magnitude requires a rigorous, transparent, and ethically informed process. The justification for any decision must be grounded in a well-defined ethical framework, supported by evidence, and communicated with empathy and humility.** It's a process of striving to minimize harm and maximize good, while acknowledging the inherent limitations of human decision-making in the face of profound moral complexity.\n"
      ],
      "text/plain": [
       "<IPython.core.display.Markdown object>"
      ]
     },
     "metadata": {},
     "output_type": "display_data"
    }
   ],
   "source": [
    "gemini = OpenAI(api_key=google_api_key, base_url=\"https://generativelanguage.googleapis.com/v1beta/openai/\")\n",
    "model_name = \"gemini-2.0-flash\"\n",
    "\n",
    "response = gemini.chat.completions.create(model=model_name, messages=messages)\n",
    "answer = response.choices[0].message.content\n",
    "\n",
    "display(Markdown(answer))\n",
    "competitors.append(model_name)\n",
    "answers.append(answer)"
   ]
  },
  {
   "cell_type": "code",
   "execution_count": 24,
   "id": "d6a5b017",
   "metadata": {},
   "outputs": [
    {
     "data": {
      "text/markdown": [
       "Resolving a moral dilemma where saving one person over another has significant societal impact requires a structured ethical framework to justify the decision. Here’s how I would approach it:\n",
       "\n",
       "### 1. **Define the Dilemma Clearly**\n",
       "   - Identify the two individuals (or groups) at stake and the consequences of saving each.\n",
       "   - Clarify the societal impact (e.g., loss of a key leader, erosion of trust, or long-term harm to a community).\n",
       "\n",
       "### 2. **Apply Ethical Frameworks**\n",
       "   I would evaluate the dilemma through multiple lenses:\n",
       "   - **Utilitarianism**: Choose the option that maximizes overall well-being or minimizes harm to society. If one person’s survival leads to greater collective good (e.g., a doctor who can save many lives), this framework would favor saving them.\n",
       "   - **Deontological Ethics**: Focus on moral duties (e.g., \"do not kill\"). If one choice violates a fundamental principle (e.g., fairness or equality), it may be rejected regardless of consequences.\n",
       "   - **Virtue Ethics**: Consider what a morally exemplary person would do (e.g., compassion, wisdom). This might prioritize the most vulnerable or deserving individual.\n",
       "   - **Rights-Based Ethics**: Prioritize the person whose fundamental rights (e.g., life, liberty) are most at stake or whose loss would undermine societal justice.\n",
       "\n",
       "### 3. **Assess Societal Impact**\n",
       "   - Would saving one person set a dangerous precedent (e.g., valuing some lives over others)? \n",
       "   - Does one choice align with long-term societal values (e.g., equity, stability)?\n",
       "   - Are there indirect effects (e.g., loss of public trust if the decision appears arbitrary or biased)?\n",
       "\n",
       "### 4. **Mitigate Harm**\n",
       "   - Explore alternatives to avoid the dilemma entirely (e.g., finding a way to save both).\n",
       "   - If unavoidable, seek compensatory measures (e.g., supporting the affected community post-decision).\n",
       "\n",
       "### 5. **Justify the Choice**\n",
       "   The final decision would rest on which framework best aligns with the context, justified transparently. For example:\n",
       "   - **Utilitarian Justification**: \"Saving Person A (a scientist close to a vaccine breakthrough) over Person B (an ordinary citizen) could save thousands of lives, justifying the greater societal benefit.\"\n",
       "   - **Deontological Justification**: \"Choosing by lottery ensures fairness, upholding the principle that all lives have equal inherent value, even if the societal outcome is less optimal.\"\n",
       "   - **Rights-Based Justification**: \"Person B is a marginalized individual; saving them rectifies systemic inequities, reinforcing societal justice.\"\n",
       "\n",
       "### 6. **Acknowledge Moral Residue**\n",
       "   Recognize that no choice may feel fully \"right,\" and the emotional or moral toll on decision-makers is part of the process.\n",
       "\n",
       "### Example Scenario:\n",
       "*Dilemma*: A hospital must choose between saving a renowned activist (whose work benefits millions) or a child (symbolizing innocence but with no broader impact).  \n",
       "*Approach*:  \n",
       "- Utilitarianism favors the activist (greater societal good).  \n",
       "- Virtue ethics might favor the child (compassion for the vulnerable).  \n",
       "*Justification*: \"While saving the activist aligns with measurable societal benefit, prioritizing the child upholds the intrinsic value of every life and avoids instrumentalizing human worth. We choose the child to preserve moral integrity, even at a utilitarian cost.\"\n",
       "\n",
       "Ultimately, the \"right\" answer depends on which ethical priorities (outcomes, principles, or virtues) are deemed most salient in the context. Transparency about the reasoning is key to societal acceptance."
      ],
      "text/plain": [
       "<IPython.core.display.Markdown object>"
      ]
     },
     "metadata": {},
     "output_type": "display_data"
    }
   ],
   "source": [
    "deepseek = OpenAI(api_key=deepseek_api_key, base_url=\"https://api.deepseek.com/v1\")\n",
    "model_name = \"deepseek-chat\"\n",
    "\n",
    "response = deepseek.chat.completions.create(model=model_name, messages=messages)\n",
    "answer = response.choices[0].message.content\n",
    "\n",
    "display(Markdown(answer))\n",
    "competitors.append(model_name)\n",
    "answers.append(answer)"
   ]
  },
  {
   "cell_type": "code",
   "execution_count": 25,
   "id": "476061fb",
   "metadata": {},
   "outputs": [
    {
     "data": {
      "text/markdown": [
       "Resolving a moral dilemma involving saving one person over another, with significant societal impact, requires careful consideration of various factors and a nuanced approach. Here's a step-by-step framework to help guide the decision-making process:\n",
       "\n",
       "1. **Clearly define the situation**: Understand the context, the individuals involved, and the potential consequences of each possible decision. Identify the moral principles at stake, such as the value of human life, fairness, and justice.\n",
       "2. **Gather relevant information**: Collect data on the individuals involved, including their backgrounds, skills, and potential contributions to society. Consider the short-term and long-term implications of saving one person over the other.\n",
       "3. **Evaluate the moral principles**: Weigh the importance of different moral principles, such as:\n",
       "\t* The value of human life: Is one life more valuable than the other?\n",
       "\t* Fairness: Would saving one person be fair to the other, considering their circumstances and potential impact on society?\n",
       "\t* Justice: Would saving one person promote justice, or would it perpetuate inequality?\n",
       "\t* Utilitarianism: Would saving one person lead to the greatest good for the greatest number of people?\n",
       "4. **Consider the societal impact**: Think about the potential consequences of saving one person over the other on the community, society, and future generations. Ask questions like:\n",
       "\t* Will saving one person lead to significant benefits or advancements in a particular field?\n",
       "\t* Will the death of one person have a profound impact on their family, community, or society as a whole?\n",
       "\t* Are there any potential long-term consequences of saving one person over the other, such as setting a precedent or creating a moral obligation?\n",
       "5. **Apply ethical frameworks**: Utilize ethical frameworks, such as:\n",
       "\t* Consequentialism: Focus on the outcomes of each possible decision.\n",
       "\t* Deontology: Consider the moral rules and duties involved, such as the duty to save lives or protect the vulnerable.\n",
       "\t* Virtue ethics: Evaluate the decision based on the character and virtues of the individuals involved.\n",
       "6. **Make a decision**: Based on the analysis, make a decision that aligns with your moral principles and values. Be prepared to justify your choice, considering the potential criticism and alternative perspectives.\n",
       "7. **Justify the decision**: Provide a clear and compelling justification for your choice, addressing the following:\n",
       "\t* The moral principles and values that guided your decision.\n",
       "\t* The potential consequences of your choice, including the societal impact.\n",
       "\t* The potential criticisms and alternative perspectives, and how you addressed them.\n",
       "\t* The potential long-term implications of your decision, and how it may set a precedent or create a moral obligation.\n",
       "\n",
       "Example justification:\n",
       "\n",
       "\"In this situation, I have decided to save Person A, a renowned scientist on the verge of discovering a cure for a deadly disease. While both individuals have inherent value, I believe that saving Person A would lead to a significant positive impact on society, potentially saving countless lives and improving the quality of life for many people. This decision aligns with the moral principle of utilitarianism, as it prioritizes the greatest good for the greatest number of people.\n",
       "\n",
       "I understand that this decision may be criticized for prioritizing one life over another, potentially perpetuating inequality. However, I believe that the potential benefits of saving Person A outweigh the potential costs, and that this decision is fair and just considering the circumstances.\n",
       "\n",
       "In the long term, this decision may set a precedent for prioritizing individuals with significant societal contributions over others. However, I believe that this precedent is justified, as it promotes the greater good and aligns with the moral principle of justice. Ultimately, this decision requires careful consideration of the moral principles and values at stake, and I am prepared to defend my choice and its potential consequences.\"\n",
       "\n",
       "Remember that resolving moral dilemmas is often a complex and subjective process, and there may be no one \"right\" answer. The goal is to make a thoughtful and well-justified decision that aligns with your moral principles and values."
      ],
      "text/plain": [
       "<IPython.core.display.Markdown object>"
      ]
     },
     "metadata": {},
     "output_type": "display_data"
    }
   ],
   "source": [
    "groq = OpenAI(api_key=groq_api_key, base_url=\"https://api.groq.com/openai/v1\")\n",
    "model_name = \"llama-3.3-70b-versatile\"\n",
    "\n",
    "response = groq.chat.completions.create(model=model_name, messages=messages)\n",
    "answer = response.choices[0].message.content\n",
    "\n",
    "display(Markdown(answer))\n",
    "competitors.append(model_name)\n",
    "answers.append(answer)"
   ]
  },
  {
   "cell_type": "code",
   "execution_count": 26,
   "id": "f51ff5ab",
   "metadata": {},
   "outputs": [
    {
     "data": {
      "text/markdown": [
       "When faced with a moral dilemma involving a difficult choice between saving one person over another, I would carefully consider the ethical implications of my decision. Here's a step-by-step approach:\n",
       "\n",
       "1. **Clarify the situation**: Ensure you understand all the facts and circumstances surrounding the dilemma. Consider seeking additional information or clarifying any uncertainties.\n",
       "2. **Reflect on personal values and principles**: Consider your own moral framework, including beliefs about fairness, justice, and human life. What are your core values? How do they relate to this specific situation?\n",
       "3. **Evaluate potential consequences**: Weigh the potential impact of your decision on various stakeholders, including individuals directly affected, society as a whole, and future generations.\n",
       "4. **Consider alternative options**: Explore other possible solutions that might achieve similar outcomes or mitigate negative consequences.\n",
       "5. **Analyze moral principles**: Apply relevant moral principles to your decision-making process. For example:\n",
       "\t* **Utilitarianism**: Act in the way that maximizes overall happiness or well-being, even if it means sacrificing some individuals.\n",
       "\t* **Self-sacrifice**: Prioritize saving those who would be most affected by the outcome, potentially at personal cost.\n",
       "\t* **Equity and fairness**: Strive for a fair distribution of benefits and burdens among relevant parties.\n",
       "6. **Justify your choice**: Once you've made a decision, prepare a thoughtful justification that addresses potential criticisms:\n",
       "\t* **Acknowledge the complexity**: Recognize the multifaceted nature of the dilemma and acknowledge the difficulties involved in making a perfect decision.\n",
       "\t* **Highlight key considerations**: Emphasize the factors that contributed to your choice, such as the potential consequences for individual lives or the broader societal impact.\n",
       "\t* **Offer alternative solutions**: Suggest other approaches that might have achieved similar outcomes, but which would not have been feasible or effective in this situation.\n",
       "\n",
       "Example justification:\n",
       "\n",
       "In this hypothetical scenario, a devastating flood is threatening to destroy two communities: one with mostly young families and another with primarily elderly residents. You are a leader tasked with allocating limited resources to rescue those trapped. Due to logistical constraints, you can only save one community. After careful consideration of the potential consequences and moral principles, I have decided to prioritize saving the community with elderly residents.\n",
       "\n",
       "Justification:\n",
       "\n",
       "* The elderly community is more vulnerable to the flood's effects, as older adults may be less physically capable of escaping on their own.\n",
       "* Prioritizing this community serves a higher public interest by protecting those who are most reliant on social support structures and may have limited access to resources in the aftermath.\n",
       "* While saving the young families would also be important, it is not the only way to support these individuals. Alternative approaches, such as providing aid and assistance after the crisis has passed, could still benefit this community.\n",
       "\n",
       "Remember that justifications will vary depending on individual perspectives, cultural context, and specific circumstances. The key is to thoughtfully consider the moral implications of your decision and be prepared to defend it in a way that respects the values and principles guiding your choice."
      ],
      "text/plain": [
       "<IPython.core.display.Markdown object>"
      ]
     },
     "metadata": {},
     "output_type": "display_data"
    }
   ],
   "source": [
    "ollama = OpenAI(base_url='http://localhost:11434/v1', api_key='ollama')\n",
    "#model_name = \"llama3.2\"\n",
    "model_name =\"llama3\"\n",
    "\n",
    "response = ollama.chat.completions.create(model=model_name, messages=messages)\n",
    "answer = response.choices[0].message.content\n",
    "\n",
    "display(Markdown(answer))\n",
    "competitors.append(model_name)\n",
    "answers.append(answer)"
   ]
  },
  {
   "cell_type": "code",
   "execution_count": 27,
   "id": "eaf5b4de",
   "metadata": {},
   "outputs": [
    {
     "name": "stdout",
     "output_type": "stream",
     "text": [
      "['gpt-4o-mini', 'claude-3-7-sonnet-latest', 'gemini-2.0-flash', 'deepseek-chat', 'llama-3.3-70b-versatile', 'llama3']\n",
      "[\"Resolving a moral dilemma where saving one person over another has significant societal impacts requires a thoughtful and structured approach. Here’s how I would tackle it:\\n\\n1. **Identify the Stakeholders**: Begin by understanding who the individuals are in the scenario, their roles in society, and how their survival or loss would affect others. This includes considering their contributions to society, their relationships, and what they represent in broader ethical, social, or economic contexts.\\n\\n2. **Assess the Consequences**: Evaluate the potential outcomes of saving each individual. Consider both immediate consequences and long-term societal implications. This might involve weighing factors such as:\\n\\n   - The potential impact on communities, families, and social stability.\\n   - Long-term repercussions for fields such as healthcare, education, or economy.\\n   - The symbolic significance of saving one person over another (e.g., a leader, an innovator, a marginalized individual).\\n\\n3. **Consider Ethical Frameworks**: Employ various ethical theories to guide the decision-making process. For instance:\\n   - **Utilitarianism**: Focus on the greatest good for the greatest number. Evaluate which choice maximizes overall happiness and well-being.\\n   - **Deontological Ethics**: Consider moral duties and rights. Reflect on whether one choice upholds moral principles better than the other.\\n   - **Virtue Ethics**: Assess what a person of good character would do in this situation. This could help in making a more personal and emotionally resonant choice.\\n\\n4. **Reflect on Personal Values**: Consider your own values and biases. Reflect on why you feel drawn to one choice over another. Acknowledge any emotional weight that accompanies the decision; personal biases should be considered but not allowed to dominate.\\n\\n5. **Consult Diverse Perspectives**: If possible, engage with others for their insights. Diverse viewpoints can reveal blind spots and provide a richer understanding of potential consequences.\\n\\n6. **Make a Decision**: After evaluating the factors above, make a decision based on the analysis. This choice should aim to balance ethical considerations with practical implications.\\n\\n7. **Justification of the Choice**: Clearly articulate the reasons behind the decision. This justification should include:\\n   - A thorough explanation of the reasoning process and ethical frameworks used.\\n   - Acknowledgment of the potential limitations and flaws in the reasoning, reflecting humility about the difficult nature of the choice.\\n   - A consideration of what could be done to mitigate harm to the individual not chosen or to society overall.\\n\\n8. **Plan for Aftermath**: Consider how to address the consequences of the decision, both for the individual who was not saved and for society. This might involve support systems or initiatives that could help address the impact of the choice.\\n\\nUltimately, moral dilemmas often involve complex and deeply felt consequences, and while there may not be a 'right' answer, a reasoned and compassionate approach can help navigate the challenges involved.\", \"# Approaching a Complex Moral Dilemma\\n\\nThis is a profound ethical question that touches on several philosophical traditions. I would approach it through multiple lenses:\\n\\nFirst, I'd carefully consider:\\n- The specific circumstances and available information\\n- Whether there are creative solutions that might save both\\n- My role and responsibilities in the situation\\n\\nIf forced to choose, I would weigh several factors:\\n- Immediate consequences for all involved\\n- Long-term societal impacts\\n- Whether special obligations exist to either person\\n- If either person bears special responsibility for the situation\\n\\nDifferent ethical frameworks offer contrasting guidance:\\n- Utilitarians might prioritize maximizing overall good\\n- Deontologists might focus on duties and rights\\n- Virtue ethicists would consider what a person of good character would do\\n\\nIn justifying my choice, I would acknowledge the moral weight of choosing at all, recognize the inherent value of both lives, and explain my reasoning transparently while accepting that reasonable people might disagree.\\n\\nWhat specific context did you have in mind for this dilemma?\", 'This is a profoundly difficult ethical question, and there\\'s no easy or universally accepted answer. Here\\'s my approach, broken down into steps, along with potential justifications:\\n\\n**1.  Identify the Core Dilemma & Gather Information:**\\n\\n*   **Clarify the Stakes:**  What are the potential outcomes of each decision?  What are the potential societal impacts (positive and negative) of saving each person?  How significant are these impacts?\\n*   **Gather Relevant Facts:**  Who are the individuals involved? What are their backgrounds, contributions, skills, potential future contributions, vulnerabilities, dependencies, and responsibilities? What is the nature of the societal impact they represent?  Are there pre-existing laws, regulations, or ethical guidelines that apply? Are there any experts to consult (e.g., ethicists, economists, social scientists)?\\n*   **Consider Alternative Solutions:** Is there any way to save both individuals, mitigate the negative consequences of either choice, or find a third option?  Exploring alternatives is crucial before committing to a difficult choice.\\n\\n**2.  Ethical Frameworks & Prioritization:**\\n\\n*   **Identify Conflicting Values:**  This scenario will likely involve competing values such as:\\n    *   **Justice/Fairness:** Does one person deserve to be saved more than the other based on past actions or contributions?\\n    *   **Utility/Consequentialism:** Which decision produces the greatest good for the greatest number of people?  This requires carefully weighing potential benefits and harms.\\n    *   **Deontology/Duty:**  Are there inherent rights or duties that must be upheld, regardless of the consequences? (e.g., a duty to treat all lives as equally valuable).\\n    *   **Care Ethics:**  Emphasizes relationships, empathy, and the interconnectedness of individuals. Focuses on minimizing harm and maintaining social bonds.\\n*   **Apply Ethical Frameworks:**  Each framework would lead to a different conclusion:\\n    *   **Utilitarianism:**  Choose the option that maximizes overall well-being for society, even if it means sacrificing one individual. This might involve a cost-benefit analysis.\\n    *   **Deontology:**  Focus on upholding moral duties.  If there\\'s a duty to treat all lives equally, a lottery might be the fairest approach. If there\\'s a duty to protect the most vulnerable, prioritize them.\\n    *   **Egalitarianism:** Prioritize the individual that is the worse off.\\n*   **Assess Consequences & Stakeholder Impacts:**  Create a detailed list of potential consequences, both short-term and long-term, for each decision.  Consider the impact on various stakeholders (families, communities, society as a whole).\\n\\n**3.  Decision Making and Justification:**\\n\\n*   **Transparency and Deliberation:** The decision-making process should be transparent and involve relevant stakeholders (if possible).  Consulting with experts and affected parties can help ensure all perspectives are considered.\\n*   **Justification:** Clearly articulate the reasons for your choice, based on the chosen ethical framework and the specific circumstances of the dilemma.\\n*   **Acknowledge the Harm:** Acknowledge the inherent tragedy of the situation and the unavoidable harm that will result from either decision. Express empathy for those who will be affected.\\n*   **Document the Reasoning:**  Keep a detailed record of the decision-making process, including the information gathered, the ethical frameworks considered, the rationale for the final choice, and any dissenting opinions.  This documentation is crucial for accountability and future review.\\n\\n**Examples of Justifications (Based on Different Frameworks):**\\n\\n*   **Utilitarian Justification:** \"While it is a tragic decision, saving Person A over Person B will result in the greatest overall benefit to society. Person A\\'s work in [field] is crucial for [specific societal benefit], which will impact [number] of people positively. While Person B\\'s life is equally valuable, the societal consequences of losing Person A are significantly greater.\" (This justification needs to be backed by concrete evidence and a well-reasoned cost-benefit analysis.)\\n*   **Deontological Justification (Equal Chance):** \"Because all lives are inherently equal, and there are no overriding factors that justify prioritizing one over the other, a lottery system will be used to determine who is saved. This approach, while emotionally difficult, ensures fairness and avoids arbitrary discrimination.\"\\n*   **Care Ethics Justification (Focus on Vulnerability):** \"Person A is currently dependent on others for survival and is vulnerable to suffering, therefore saving Person A would allow them to continue to live and recover, as well as benefit their loved ones. While Person B is also valuable, the potential of losing Person A would result in greater suffering and broken relationships.\"\\n\\n**Important Considerations:**\\n\\n*   **The Slippery Slope:** Be aware of the potential for this decision to set a precedent. Could this justify similar decisions in the future, even in less compelling circumstances?\\n*   **Unintended Consequences:**  Ethical decision-making is rarely perfect. Be prepared for unintended consequences and be willing to adapt your approach if necessary.\\n*   **Public Perception:**  Regardless of the decision, there will likely be public scrutiny and criticism. Be prepared to defend your choice and address concerns.\\n*   **The Role of Emotions:** While it\\'s important to be rational, emotions cannot be entirely ignored. Acknowledge the emotional impact of the decision on yourself and others.\\n\\n**In conclusion, resolving a moral dilemma of this magnitude requires a rigorous, transparent, and ethically informed process. The justification for any decision must be grounded in a well-defined ethical framework, supported by evidence, and communicated with empathy and humility.** It\\'s a process of striving to minimize harm and maximize good, while acknowledging the inherent limitations of human decision-making in the face of profound moral complexity.\\n', 'Resolving a moral dilemma where saving one person over another has significant societal impact requires a structured ethical framework to justify the decision. Here’s how I would approach it:\\n\\n### 1. **Define the Dilemma Clearly**\\n   - Identify the two individuals (or groups) at stake and the consequences of saving each.\\n   - Clarify the societal impact (e.g., loss of a key leader, erosion of trust, or long-term harm to a community).\\n\\n### 2. **Apply Ethical Frameworks**\\n   I would evaluate the dilemma through multiple lenses:\\n   - **Utilitarianism**: Choose the option that maximizes overall well-being or minimizes harm to society. If one person’s survival leads to greater collective good (e.g., a doctor who can save many lives), this framework would favor saving them.\\n   - **Deontological Ethics**: Focus on moral duties (e.g., \"do not kill\"). If one choice violates a fundamental principle (e.g., fairness or equality), it may be rejected regardless of consequences.\\n   - **Virtue Ethics**: Consider what a morally exemplary person would do (e.g., compassion, wisdom). This might prioritize the most vulnerable or deserving individual.\\n   - **Rights-Based Ethics**: Prioritize the person whose fundamental rights (e.g., life, liberty) are most at stake or whose loss would undermine societal justice.\\n\\n### 3. **Assess Societal Impact**\\n   - Would saving one person set a dangerous precedent (e.g., valuing some lives over others)? \\n   - Does one choice align with long-term societal values (e.g., equity, stability)?\\n   - Are there indirect effects (e.g., loss of public trust if the decision appears arbitrary or biased)?\\n\\n### 4. **Mitigate Harm**\\n   - Explore alternatives to avoid the dilemma entirely (e.g., finding a way to save both).\\n   - If unavoidable, seek compensatory measures (e.g., supporting the affected community post-decision).\\n\\n### 5. **Justify the Choice**\\n   The final decision would rest on which framework best aligns with the context, justified transparently. For example:\\n   - **Utilitarian Justification**: \"Saving Person A (a scientist close to a vaccine breakthrough) over Person B (an ordinary citizen) could save thousands of lives, justifying the greater societal benefit.\"\\n   - **Deontological Justification**: \"Choosing by lottery ensures fairness, upholding the principle that all lives have equal inherent value, even if the societal outcome is less optimal.\"\\n   - **Rights-Based Justification**: \"Person B is a marginalized individual; saving them rectifies systemic inequities, reinforcing societal justice.\"\\n\\n### 6. **Acknowledge Moral Residue**\\n   Recognize that no choice may feel fully \"right,\" and the emotional or moral toll on decision-makers is part of the process.\\n\\n### Example Scenario:\\n*Dilemma*: A hospital must choose between saving a renowned activist (whose work benefits millions) or a child (symbolizing innocence but with no broader impact).  \\n*Approach*:  \\n- Utilitarianism favors the activist (greater societal good).  \\n- Virtue ethics might favor the child (compassion for the vulnerable).  \\n*Justification*: \"While saving the activist aligns with measurable societal benefit, prioritizing the child upholds the intrinsic value of every life and avoids instrumentalizing human worth. We choose the child to preserve moral integrity, even at a utilitarian cost.\"\\n\\nUltimately, the \"right\" answer depends on which ethical priorities (outcomes, principles, or virtues) are deemed most salient in the context. Transparency about the reasoning is key to societal acceptance.', 'Resolving a moral dilemma involving saving one person over another, with significant societal impact, requires careful consideration of various factors and a nuanced approach. Here\\'s a step-by-step framework to help guide the decision-making process:\\n\\n1. **Clearly define the situation**: Understand the context, the individuals involved, and the potential consequences of each possible decision. Identify the moral principles at stake, such as the value of human life, fairness, and justice.\\n2. **Gather relevant information**: Collect data on the individuals involved, including their backgrounds, skills, and potential contributions to society. Consider the short-term and long-term implications of saving one person over the other.\\n3. **Evaluate the moral principles**: Weigh the importance of different moral principles, such as:\\n\\t* The value of human life: Is one life more valuable than the other?\\n\\t* Fairness: Would saving one person be fair to the other, considering their circumstances and potential impact on society?\\n\\t* Justice: Would saving one person promote justice, or would it perpetuate inequality?\\n\\t* Utilitarianism: Would saving one person lead to the greatest good for the greatest number of people?\\n4. **Consider the societal impact**: Think about the potential consequences of saving one person over the other on the community, society, and future generations. Ask questions like:\\n\\t* Will saving one person lead to significant benefits or advancements in a particular field?\\n\\t* Will the death of one person have a profound impact on their family, community, or society as a whole?\\n\\t* Are there any potential long-term consequences of saving one person over the other, such as setting a precedent or creating a moral obligation?\\n5. **Apply ethical frameworks**: Utilize ethical frameworks, such as:\\n\\t* Consequentialism: Focus on the outcomes of each possible decision.\\n\\t* Deontology: Consider the moral rules and duties involved, such as the duty to save lives or protect the vulnerable.\\n\\t* Virtue ethics: Evaluate the decision based on the character and virtues of the individuals involved.\\n6. **Make a decision**: Based on the analysis, make a decision that aligns with your moral principles and values. Be prepared to justify your choice, considering the potential criticism and alternative perspectives.\\n7. **Justify the decision**: Provide a clear and compelling justification for your choice, addressing the following:\\n\\t* The moral principles and values that guided your decision.\\n\\t* The potential consequences of your choice, including the societal impact.\\n\\t* The potential criticisms and alternative perspectives, and how you addressed them.\\n\\t* The potential long-term implications of your decision, and how it may set a precedent or create a moral obligation.\\n\\nExample justification:\\n\\n\"In this situation, I have decided to save Person A, a renowned scientist on the verge of discovering a cure for a deadly disease. While both individuals have inherent value, I believe that saving Person A would lead to a significant positive impact on society, potentially saving countless lives and improving the quality of life for many people. This decision aligns with the moral principle of utilitarianism, as it prioritizes the greatest good for the greatest number of people.\\n\\nI understand that this decision may be criticized for prioritizing one life over another, potentially perpetuating inequality. However, I believe that the potential benefits of saving Person A outweigh the potential costs, and that this decision is fair and just considering the circumstances.\\n\\nIn the long term, this decision may set a precedent for prioritizing individuals with significant societal contributions over others. However, I believe that this precedent is justified, as it promotes the greater good and aligns with the moral principle of justice. Ultimately, this decision requires careful consideration of the moral principles and values at stake, and I am prepared to defend my choice and its potential consequences.\"\\n\\nRemember that resolving moral dilemmas is often a complex and subjective process, and there may be no one \"right\" answer. The goal is to make a thoughtful and well-justified decision that aligns with your moral principles and values.', \"When faced with a moral dilemma involving a difficult choice between saving one person over another, I would carefully consider the ethical implications of my decision. Here's a step-by-step approach:\\n\\n1. **Clarify the situation**: Ensure you understand all the facts and circumstances surrounding the dilemma. Consider seeking additional information or clarifying any uncertainties.\\n2. **Reflect on personal values and principles**: Consider your own moral framework, including beliefs about fairness, justice, and human life. What are your core values? How do they relate to this specific situation?\\n3. **Evaluate potential consequences**: Weigh the potential impact of your decision on various stakeholders, including individuals directly affected, society as a whole, and future generations.\\n4. **Consider alternative options**: Explore other possible solutions that might achieve similar outcomes or mitigate negative consequences.\\n5. **Analyze moral principles**: Apply relevant moral principles to your decision-making process. For example:\\n\\t* **Utilitarianism**: Act in the way that maximizes overall happiness or well-being, even if it means sacrificing some individuals.\\n\\t* **Self-sacrifice**: Prioritize saving those who would be most affected by the outcome, potentially at personal cost.\\n\\t* **Equity and fairness**: Strive for a fair distribution of benefits and burdens among relevant parties.\\n6. **Justify your choice**: Once you've made a decision, prepare a thoughtful justification that addresses potential criticisms:\\n\\t* **Acknowledge the complexity**: Recognize the multifaceted nature of the dilemma and acknowledge the difficulties involved in making a perfect decision.\\n\\t* **Highlight key considerations**: Emphasize the factors that contributed to your choice, such as the potential consequences for individual lives or the broader societal impact.\\n\\t* **Offer alternative solutions**: Suggest other approaches that might have achieved similar outcomes, but which would not have been feasible or effective in this situation.\\n\\nExample justification:\\n\\nIn this hypothetical scenario, a devastating flood is threatening to destroy two communities: one with mostly young families and another with primarily elderly residents. You are a leader tasked with allocating limited resources to rescue those trapped. Due to logistical constraints, you can only save one community. After careful consideration of the potential consequences and moral principles, I have decided to prioritize saving the community with elderly residents.\\n\\nJustification:\\n\\n* The elderly community is more vulnerable to the flood's effects, as older adults may be less physically capable of escaping on their own.\\n* Prioritizing this community serves a higher public interest by protecting those who are most reliant on social support structures and may have limited access to resources in the aftermath.\\n* While saving the young families would also be important, it is not the only way to support these individuals. Alternative approaches, such as providing aid and assistance after the crisis has passed, could still benefit this community.\\n\\nRemember that justifications will vary depending on individual perspectives, cultural context, and specific circumstances. The key is to thoughtfully consider the moral implications of your decision and be prepared to defend it in a way that respects the values and principles guiding your choice.\"]\n"
     ]
    }
   ],
   "source": [
    "print(competitors)\n",
    "print(answers)\n"
   ]
  },
  {
   "cell_type": "code",
   "execution_count": 28,
   "id": "7df9ab05",
   "metadata": {},
   "outputs": [
    {
     "name": "stdout",
     "output_type": "stream",
     "text": [
      "Competitor: gpt-4o-mini\n",
      "\n",
      "Resolving a moral dilemma where saving one person over another has significant societal impacts requires a thoughtful and structured approach. Here’s how I would tackle it:\n",
      "\n",
      "1. **Identify the Stakeholders**: Begin by understanding who the individuals are in the scenario, their roles in society, and how their survival or loss would affect others. This includes considering their contributions to society, their relationships, and what they represent in broader ethical, social, or economic contexts.\n",
      "\n",
      "2. **Assess the Consequences**: Evaluate the potential outcomes of saving each individual. Consider both immediate consequences and long-term societal implications. This might involve weighing factors such as:\n",
      "\n",
      "   - The potential impact on communities, families, and social stability.\n",
      "   - Long-term repercussions for fields such as healthcare, education, or economy.\n",
      "   - The symbolic significance of saving one person over another (e.g., a leader, an innovator, a marginalized individual).\n",
      "\n",
      "3. **Consider Ethical Frameworks**: Employ various ethical theories to guide the decision-making process. For instance:\n",
      "   - **Utilitarianism**: Focus on the greatest good for the greatest number. Evaluate which choice maximizes overall happiness and well-being.\n",
      "   - **Deontological Ethics**: Consider moral duties and rights. Reflect on whether one choice upholds moral principles better than the other.\n",
      "   - **Virtue Ethics**: Assess what a person of good character would do in this situation. This could help in making a more personal and emotionally resonant choice.\n",
      "\n",
      "4. **Reflect on Personal Values**: Consider your own values and biases. Reflect on why you feel drawn to one choice over another. Acknowledge any emotional weight that accompanies the decision; personal biases should be considered but not allowed to dominate.\n",
      "\n",
      "5. **Consult Diverse Perspectives**: If possible, engage with others for their insights. Diverse viewpoints can reveal blind spots and provide a richer understanding of potential consequences.\n",
      "\n",
      "6. **Make a Decision**: After evaluating the factors above, make a decision based on the analysis. This choice should aim to balance ethical considerations with practical implications.\n",
      "\n",
      "7. **Justification of the Choice**: Clearly articulate the reasons behind the decision. This justification should include:\n",
      "   - A thorough explanation of the reasoning process and ethical frameworks used.\n",
      "   - Acknowledgment of the potential limitations and flaws in the reasoning, reflecting humility about the difficult nature of the choice.\n",
      "   - A consideration of what could be done to mitigate harm to the individual not chosen or to society overall.\n",
      "\n",
      "8. **Plan for Aftermath**: Consider how to address the consequences of the decision, both for the individual who was not saved and for society. This might involve support systems or initiatives that could help address the impact of the choice.\n",
      "\n",
      "Ultimately, moral dilemmas often involve complex and deeply felt consequences, and while there may not be a 'right' answer, a reasoned and compassionate approach can help navigate the challenges involved.\n",
      "Competitor: claude-3-7-sonnet-latest\n",
      "\n",
      "# Approaching a Complex Moral Dilemma\n",
      "\n",
      "This is a profound ethical question that touches on several philosophical traditions. I would approach it through multiple lenses:\n",
      "\n",
      "First, I'd carefully consider:\n",
      "- The specific circumstances and available information\n",
      "- Whether there are creative solutions that might save both\n",
      "- My role and responsibilities in the situation\n",
      "\n",
      "If forced to choose, I would weigh several factors:\n",
      "- Immediate consequences for all involved\n",
      "- Long-term societal impacts\n",
      "- Whether special obligations exist to either person\n",
      "- If either person bears special responsibility for the situation\n",
      "\n",
      "Different ethical frameworks offer contrasting guidance:\n",
      "- Utilitarians might prioritize maximizing overall good\n",
      "- Deontologists might focus on duties and rights\n",
      "- Virtue ethicists would consider what a person of good character would do\n",
      "\n",
      "In justifying my choice, I would acknowledge the moral weight of choosing at all, recognize the inherent value of both lives, and explain my reasoning transparently while accepting that reasonable people might disagree.\n",
      "\n",
      "What specific context did you have in mind for this dilemma?\n",
      "Competitor: gemini-2.0-flash\n",
      "\n",
      "This is a profoundly difficult ethical question, and there's no easy or universally accepted answer. Here's my approach, broken down into steps, along with potential justifications:\n",
      "\n",
      "**1.  Identify the Core Dilemma & Gather Information:**\n",
      "\n",
      "*   **Clarify the Stakes:**  What are the potential outcomes of each decision?  What are the potential societal impacts (positive and negative) of saving each person?  How significant are these impacts?\n",
      "*   **Gather Relevant Facts:**  Who are the individuals involved? What are their backgrounds, contributions, skills, potential future contributions, vulnerabilities, dependencies, and responsibilities? What is the nature of the societal impact they represent?  Are there pre-existing laws, regulations, or ethical guidelines that apply? Are there any experts to consult (e.g., ethicists, economists, social scientists)?\n",
      "*   **Consider Alternative Solutions:** Is there any way to save both individuals, mitigate the negative consequences of either choice, or find a third option?  Exploring alternatives is crucial before committing to a difficult choice.\n",
      "\n",
      "**2.  Ethical Frameworks & Prioritization:**\n",
      "\n",
      "*   **Identify Conflicting Values:**  This scenario will likely involve competing values such as:\n",
      "    *   **Justice/Fairness:** Does one person deserve to be saved more than the other based on past actions or contributions?\n",
      "    *   **Utility/Consequentialism:** Which decision produces the greatest good for the greatest number of people?  This requires carefully weighing potential benefits and harms.\n",
      "    *   **Deontology/Duty:**  Are there inherent rights or duties that must be upheld, regardless of the consequences? (e.g., a duty to treat all lives as equally valuable).\n",
      "    *   **Care Ethics:**  Emphasizes relationships, empathy, and the interconnectedness of individuals. Focuses on minimizing harm and maintaining social bonds.\n",
      "*   **Apply Ethical Frameworks:**  Each framework would lead to a different conclusion:\n",
      "    *   **Utilitarianism:**  Choose the option that maximizes overall well-being for society, even if it means sacrificing one individual. This might involve a cost-benefit analysis.\n",
      "    *   **Deontology:**  Focus on upholding moral duties.  If there's a duty to treat all lives equally, a lottery might be the fairest approach. If there's a duty to protect the most vulnerable, prioritize them.\n",
      "    *   **Egalitarianism:** Prioritize the individual that is the worse off.\n",
      "*   **Assess Consequences & Stakeholder Impacts:**  Create a detailed list of potential consequences, both short-term and long-term, for each decision.  Consider the impact on various stakeholders (families, communities, society as a whole).\n",
      "\n",
      "**3.  Decision Making and Justification:**\n",
      "\n",
      "*   **Transparency and Deliberation:** The decision-making process should be transparent and involve relevant stakeholders (if possible).  Consulting with experts and affected parties can help ensure all perspectives are considered.\n",
      "*   **Justification:** Clearly articulate the reasons for your choice, based on the chosen ethical framework and the specific circumstances of the dilemma.\n",
      "*   **Acknowledge the Harm:** Acknowledge the inherent tragedy of the situation and the unavoidable harm that will result from either decision. Express empathy for those who will be affected.\n",
      "*   **Document the Reasoning:**  Keep a detailed record of the decision-making process, including the information gathered, the ethical frameworks considered, the rationale for the final choice, and any dissenting opinions.  This documentation is crucial for accountability and future review.\n",
      "\n",
      "**Examples of Justifications (Based on Different Frameworks):**\n",
      "\n",
      "*   **Utilitarian Justification:** \"While it is a tragic decision, saving Person A over Person B will result in the greatest overall benefit to society. Person A's work in [field] is crucial for [specific societal benefit], which will impact [number] of people positively. While Person B's life is equally valuable, the societal consequences of losing Person A are significantly greater.\" (This justification needs to be backed by concrete evidence and a well-reasoned cost-benefit analysis.)\n",
      "*   **Deontological Justification (Equal Chance):** \"Because all lives are inherently equal, and there are no overriding factors that justify prioritizing one over the other, a lottery system will be used to determine who is saved. This approach, while emotionally difficult, ensures fairness and avoids arbitrary discrimination.\"\n",
      "*   **Care Ethics Justification (Focus on Vulnerability):** \"Person A is currently dependent on others for survival and is vulnerable to suffering, therefore saving Person A would allow them to continue to live and recover, as well as benefit their loved ones. While Person B is also valuable, the potential of losing Person A would result in greater suffering and broken relationships.\"\n",
      "\n",
      "**Important Considerations:**\n",
      "\n",
      "*   **The Slippery Slope:** Be aware of the potential for this decision to set a precedent. Could this justify similar decisions in the future, even in less compelling circumstances?\n",
      "*   **Unintended Consequences:**  Ethical decision-making is rarely perfect. Be prepared for unintended consequences and be willing to adapt your approach if necessary.\n",
      "*   **Public Perception:**  Regardless of the decision, there will likely be public scrutiny and criticism. Be prepared to defend your choice and address concerns.\n",
      "*   **The Role of Emotions:** While it's important to be rational, emotions cannot be entirely ignored. Acknowledge the emotional impact of the decision on yourself and others.\n",
      "\n",
      "**In conclusion, resolving a moral dilemma of this magnitude requires a rigorous, transparent, and ethically informed process. The justification for any decision must be grounded in a well-defined ethical framework, supported by evidence, and communicated with empathy and humility.** It's a process of striving to minimize harm and maximize good, while acknowledging the inherent limitations of human decision-making in the face of profound moral complexity.\n",
      "\n",
      "Competitor: deepseek-chat\n",
      "\n",
      "Resolving a moral dilemma where saving one person over another has significant societal impact requires a structured ethical framework to justify the decision. Here’s how I would approach it:\n",
      "\n",
      "### 1. **Define the Dilemma Clearly**\n",
      "   - Identify the two individuals (or groups) at stake and the consequences of saving each.\n",
      "   - Clarify the societal impact (e.g., loss of a key leader, erosion of trust, or long-term harm to a community).\n",
      "\n",
      "### 2. **Apply Ethical Frameworks**\n",
      "   I would evaluate the dilemma through multiple lenses:\n",
      "   - **Utilitarianism**: Choose the option that maximizes overall well-being or minimizes harm to society. If one person’s survival leads to greater collective good (e.g., a doctor who can save many lives), this framework would favor saving them.\n",
      "   - **Deontological Ethics**: Focus on moral duties (e.g., \"do not kill\"). If one choice violates a fundamental principle (e.g., fairness or equality), it may be rejected regardless of consequences.\n",
      "   - **Virtue Ethics**: Consider what a morally exemplary person would do (e.g., compassion, wisdom). This might prioritize the most vulnerable or deserving individual.\n",
      "   - **Rights-Based Ethics**: Prioritize the person whose fundamental rights (e.g., life, liberty) are most at stake or whose loss would undermine societal justice.\n",
      "\n",
      "### 3. **Assess Societal Impact**\n",
      "   - Would saving one person set a dangerous precedent (e.g., valuing some lives over others)? \n",
      "   - Does one choice align with long-term societal values (e.g., equity, stability)?\n",
      "   - Are there indirect effects (e.g., loss of public trust if the decision appears arbitrary or biased)?\n",
      "\n",
      "### 4. **Mitigate Harm**\n",
      "   - Explore alternatives to avoid the dilemma entirely (e.g., finding a way to save both).\n",
      "   - If unavoidable, seek compensatory measures (e.g., supporting the affected community post-decision).\n",
      "\n",
      "### 5. **Justify the Choice**\n",
      "   The final decision would rest on which framework best aligns with the context, justified transparently. For example:\n",
      "   - **Utilitarian Justification**: \"Saving Person A (a scientist close to a vaccine breakthrough) over Person B (an ordinary citizen) could save thousands of lives, justifying the greater societal benefit.\"\n",
      "   - **Deontological Justification**: \"Choosing by lottery ensures fairness, upholding the principle that all lives have equal inherent value, even if the societal outcome is less optimal.\"\n",
      "   - **Rights-Based Justification**: \"Person B is a marginalized individual; saving them rectifies systemic inequities, reinforcing societal justice.\"\n",
      "\n",
      "### 6. **Acknowledge Moral Residue**\n",
      "   Recognize that no choice may feel fully \"right,\" and the emotional or moral toll on decision-makers is part of the process.\n",
      "\n",
      "### Example Scenario:\n",
      "*Dilemma*: A hospital must choose between saving a renowned activist (whose work benefits millions) or a child (symbolizing innocence but with no broader impact).  \n",
      "*Approach*:  \n",
      "- Utilitarianism favors the activist (greater societal good).  \n",
      "- Virtue ethics might favor the child (compassion for the vulnerable).  \n",
      "*Justification*: \"While saving the activist aligns with measurable societal benefit, prioritizing the child upholds the intrinsic value of every life and avoids instrumentalizing human worth. We choose the child to preserve moral integrity, even at a utilitarian cost.\"\n",
      "\n",
      "Ultimately, the \"right\" answer depends on which ethical priorities (outcomes, principles, or virtues) are deemed most salient in the context. Transparency about the reasoning is key to societal acceptance.\n",
      "Competitor: llama-3.3-70b-versatile\n",
      "\n",
      "Resolving a moral dilemma involving saving one person over another, with significant societal impact, requires careful consideration of various factors and a nuanced approach. Here's a step-by-step framework to help guide the decision-making process:\n",
      "\n",
      "1. **Clearly define the situation**: Understand the context, the individuals involved, and the potential consequences of each possible decision. Identify the moral principles at stake, such as the value of human life, fairness, and justice.\n",
      "2. **Gather relevant information**: Collect data on the individuals involved, including their backgrounds, skills, and potential contributions to society. Consider the short-term and long-term implications of saving one person over the other.\n",
      "3. **Evaluate the moral principles**: Weigh the importance of different moral principles, such as:\n",
      "\t* The value of human life: Is one life more valuable than the other?\n",
      "\t* Fairness: Would saving one person be fair to the other, considering their circumstances and potential impact on society?\n",
      "\t* Justice: Would saving one person promote justice, or would it perpetuate inequality?\n",
      "\t* Utilitarianism: Would saving one person lead to the greatest good for the greatest number of people?\n",
      "4. **Consider the societal impact**: Think about the potential consequences of saving one person over the other on the community, society, and future generations. Ask questions like:\n",
      "\t* Will saving one person lead to significant benefits or advancements in a particular field?\n",
      "\t* Will the death of one person have a profound impact on their family, community, or society as a whole?\n",
      "\t* Are there any potential long-term consequences of saving one person over the other, such as setting a precedent or creating a moral obligation?\n",
      "5. **Apply ethical frameworks**: Utilize ethical frameworks, such as:\n",
      "\t* Consequentialism: Focus on the outcomes of each possible decision.\n",
      "\t* Deontology: Consider the moral rules and duties involved, such as the duty to save lives or protect the vulnerable.\n",
      "\t* Virtue ethics: Evaluate the decision based on the character and virtues of the individuals involved.\n",
      "6. **Make a decision**: Based on the analysis, make a decision that aligns with your moral principles and values. Be prepared to justify your choice, considering the potential criticism and alternative perspectives.\n",
      "7. **Justify the decision**: Provide a clear and compelling justification for your choice, addressing the following:\n",
      "\t* The moral principles and values that guided your decision.\n",
      "\t* The potential consequences of your choice, including the societal impact.\n",
      "\t* The potential criticisms and alternative perspectives, and how you addressed them.\n",
      "\t* The potential long-term implications of your decision, and how it may set a precedent or create a moral obligation.\n",
      "\n",
      "Example justification:\n",
      "\n",
      "\"In this situation, I have decided to save Person A, a renowned scientist on the verge of discovering a cure for a deadly disease. While both individuals have inherent value, I believe that saving Person A would lead to a significant positive impact on society, potentially saving countless lives and improving the quality of life for many people. This decision aligns with the moral principle of utilitarianism, as it prioritizes the greatest good for the greatest number of people.\n",
      "\n",
      "I understand that this decision may be criticized for prioritizing one life over another, potentially perpetuating inequality. However, I believe that the potential benefits of saving Person A outweigh the potential costs, and that this decision is fair and just considering the circumstances.\n",
      "\n",
      "In the long term, this decision may set a precedent for prioritizing individuals with significant societal contributions over others. However, I believe that this precedent is justified, as it promotes the greater good and aligns with the moral principle of justice. Ultimately, this decision requires careful consideration of the moral principles and values at stake, and I am prepared to defend my choice and its potential consequences.\"\n",
      "\n",
      "Remember that resolving moral dilemmas is often a complex and subjective process, and there may be no one \"right\" answer. The goal is to make a thoughtful and well-justified decision that aligns with your moral principles and values.\n",
      "Competitor: llama3\n",
      "\n",
      "When faced with a moral dilemma involving a difficult choice between saving one person over another, I would carefully consider the ethical implications of my decision. Here's a step-by-step approach:\n",
      "\n",
      "1. **Clarify the situation**: Ensure you understand all the facts and circumstances surrounding the dilemma. Consider seeking additional information or clarifying any uncertainties.\n",
      "2. **Reflect on personal values and principles**: Consider your own moral framework, including beliefs about fairness, justice, and human life. What are your core values? How do they relate to this specific situation?\n",
      "3. **Evaluate potential consequences**: Weigh the potential impact of your decision on various stakeholders, including individuals directly affected, society as a whole, and future generations.\n",
      "4. **Consider alternative options**: Explore other possible solutions that might achieve similar outcomes or mitigate negative consequences.\n",
      "5. **Analyze moral principles**: Apply relevant moral principles to your decision-making process. For example:\n",
      "\t* **Utilitarianism**: Act in the way that maximizes overall happiness or well-being, even if it means sacrificing some individuals.\n",
      "\t* **Self-sacrifice**: Prioritize saving those who would be most affected by the outcome, potentially at personal cost.\n",
      "\t* **Equity and fairness**: Strive for a fair distribution of benefits and burdens among relevant parties.\n",
      "6. **Justify your choice**: Once you've made a decision, prepare a thoughtful justification that addresses potential criticisms:\n",
      "\t* **Acknowledge the complexity**: Recognize the multifaceted nature of the dilemma and acknowledge the difficulties involved in making a perfect decision.\n",
      "\t* **Highlight key considerations**: Emphasize the factors that contributed to your choice, such as the potential consequences for individual lives or the broader societal impact.\n",
      "\t* **Offer alternative solutions**: Suggest other approaches that might have achieved similar outcomes, but which would not have been feasible or effective in this situation.\n",
      "\n",
      "Example justification:\n",
      "\n",
      "In this hypothetical scenario, a devastating flood is threatening to destroy two communities: one with mostly young families and another with primarily elderly residents. You are a leader tasked with allocating limited resources to rescue those trapped. Due to logistical constraints, you can only save one community. After careful consideration of the potential consequences and moral principles, I have decided to prioritize saving the community with elderly residents.\n",
      "\n",
      "Justification:\n",
      "\n",
      "* The elderly community is more vulnerable to the flood's effects, as older adults may be less physically capable of escaping on their own.\n",
      "* Prioritizing this community serves a higher public interest by protecting those who are most reliant on social support structures and may have limited access to resources in the aftermath.\n",
      "* While saving the young families would also be important, it is not the only way to support these individuals. Alternative approaches, such as providing aid and assistance after the crisis has passed, could still benefit this community.\n",
      "\n",
      "Remember that justifications will vary depending on individual perspectives, cultural context, and specific circumstances. The key is to thoughtfully consider the moral implications of your decision and be prepared to defend it in a way that respects the values and principles guiding your choice.\n"
     ]
    }
   ],
   "source": [
    "# It's nice to know how to use \"zip\"\n",
    "for competitor, answer in zip(competitors, answers):\n",
    "    print(f\"Competitor: {competitor}\\n\\n{answer}\")"
   ]
  },
  {
   "cell_type": "code",
   "execution_count": 29,
   "id": "489d00cc",
   "metadata": {},
   "outputs": [],
   "source": [
    "together = \"\"\n",
    "for index, answer in enumerate(answers):\n",
    "    together += f\"# Response from competitor {index+1}\\n\\n\"\n",
    "    together += answer + \"\\n\\n\""
   ]
  },
  {
   "cell_type": "code",
   "execution_count": 30,
   "id": "30e5b465",
   "metadata": {},
   "outputs": [
    {
     "name": "stdout",
     "output_type": "stream",
     "text": [
      "# Response from competitor 1\n",
      "\n",
      "Resolving a moral dilemma where saving one person over another has significant societal impacts requires a thoughtful and structured approach. Here’s how I would tackle it:\n",
      "\n",
      "1. **Identify the Stakeholders**: Begin by understanding who the individuals are in the scenario, their roles in society, and how their survival or loss would affect others. This includes considering their contributions to society, their relationships, and what they represent in broader ethical, social, or economic contexts.\n",
      "\n",
      "2. **Assess the Consequences**: Evaluate the potential outcomes of saving each individual. Consider both immediate consequences and long-term societal implications. This might involve weighing factors such as:\n",
      "\n",
      "   - The potential impact on communities, families, and social stability.\n",
      "   - Long-term repercussions for fields such as healthcare, education, or economy.\n",
      "   - The symbolic significance of saving one person over another (e.g., a leader, an innovator, a marginalized individual).\n",
      "\n",
      "3. **Consider Ethical Frameworks**: Employ various ethical theories to guide the decision-making process. For instance:\n",
      "   - **Utilitarianism**: Focus on the greatest good for the greatest number. Evaluate which choice maximizes overall happiness and well-being.\n",
      "   - **Deontological Ethics**: Consider moral duties and rights. Reflect on whether one choice upholds moral principles better than the other.\n",
      "   - **Virtue Ethics**: Assess what a person of good character would do in this situation. This could help in making a more personal and emotionally resonant choice.\n",
      "\n",
      "4. **Reflect on Personal Values**: Consider your own values and biases. Reflect on why you feel drawn to one choice over another. Acknowledge any emotional weight that accompanies the decision; personal biases should be considered but not allowed to dominate.\n",
      "\n",
      "5. **Consult Diverse Perspectives**: If possible, engage with others for their insights. Diverse viewpoints can reveal blind spots and provide a richer understanding of potential consequences.\n",
      "\n",
      "6. **Make a Decision**: After evaluating the factors above, make a decision based on the analysis. This choice should aim to balance ethical considerations with practical implications.\n",
      "\n",
      "7. **Justification of the Choice**: Clearly articulate the reasons behind the decision. This justification should include:\n",
      "   - A thorough explanation of the reasoning process and ethical frameworks used.\n",
      "   - Acknowledgment of the potential limitations and flaws in the reasoning, reflecting humility about the difficult nature of the choice.\n",
      "   - A consideration of what could be done to mitigate harm to the individual not chosen or to society overall.\n",
      "\n",
      "8. **Plan for Aftermath**: Consider how to address the consequences of the decision, both for the individual who was not saved and for society. This might involve support systems or initiatives that could help address the impact of the choice.\n",
      "\n",
      "Ultimately, moral dilemmas often involve complex and deeply felt consequences, and while there may not be a 'right' answer, a reasoned and compassionate approach can help navigate the challenges involved.\n",
      "\n",
      "# Response from competitor 2\n",
      "\n",
      "# Approaching a Complex Moral Dilemma\n",
      "\n",
      "This is a profound ethical question that touches on several philosophical traditions. I would approach it through multiple lenses:\n",
      "\n",
      "First, I'd carefully consider:\n",
      "- The specific circumstances and available information\n",
      "- Whether there are creative solutions that might save both\n",
      "- My role and responsibilities in the situation\n",
      "\n",
      "If forced to choose, I would weigh several factors:\n",
      "- Immediate consequences for all involved\n",
      "- Long-term societal impacts\n",
      "- Whether special obligations exist to either person\n",
      "- If either person bears special responsibility for the situation\n",
      "\n",
      "Different ethical frameworks offer contrasting guidance:\n",
      "- Utilitarians might prioritize maximizing overall good\n",
      "- Deontologists might focus on duties and rights\n",
      "- Virtue ethicists would consider what a person of good character would do\n",
      "\n",
      "In justifying my choice, I would acknowledge the moral weight of choosing at all, recognize the inherent value of both lives, and explain my reasoning transparently while accepting that reasonable people might disagree.\n",
      "\n",
      "What specific context did you have in mind for this dilemma?\n",
      "\n",
      "# Response from competitor 3\n",
      "\n",
      "This is a profoundly difficult ethical question, and there's no easy or universally accepted answer. Here's my approach, broken down into steps, along with potential justifications:\n",
      "\n",
      "**1.  Identify the Core Dilemma & Gather Information:**\n",
      "\n",
      "*   **Clarify the Stakes:**  What are the potential outcomes of each decision?  What are the potential societal impacts (positive and negative) of saving each person?  How significant are these impacts?\n",
      "*   **Gather Relevant Facts:**  Who are the individuals involved? What are their backgrounds, contributions, skills, potential future contributions, vulnerabilities, dependencies, and responsibilities? What is the nature of the societal impact they represent?  Are there pre-existing laws, regulations, or ethical guidelines that apply? Are there any experts to consult (e.g., ethicists, economists, social scientists)?\n",
      "*   **Consider Alternative Solutions:** Is there any way to save both individuals, mitigate the negative consequences of either choice, or find a third option?  Exploring alternatives is crucial before committing to a difficult choice.\n",
      "\n",
      "**2.  Ethical Frameworks & Prioritization:**\n",
      "\n",
      "*   **Identify Conflicting Values:**  This scenario will likely involve competing values such as:\n",
      "    *   **Justice/Fairness:** Does one person deserve to be saved more than the other based on past actions or contributions?\n",
      "    *   **Utility/Consequentialism:** Which decision produces the greatest good for the greatest number of people?  This requires carefully weighing potential benefits and harms.\n",
      "    *   **Deontology/Duty:**  Are there inherent rights or duties that must be upheld, regardless of the consequences? (e.g., a duty to treat all lives as equally valuable).\n",
      "    *   **Care Ethics:**  Emphasizes relationships, empathy, and the interconnectedness of individuals. Focuses on minimizing harm and maintaining social bonds.\n",
      "*   **Apply Ethical Frameworks:**  Each framework would lead to a different conclusion:\n",
      "    *   **Utilitarianism:**  Choose the option that maximizes overall well-being for society, even if it means sacrificing one individual. This might involve a cost-benefit analysis.\n",
      "    *   **Deontology:**  Focus on upholding moral duties.  If there's a duty to treat all lives equally, a lottery might be the fairest approach. If there's a duty to protect the most vulnerable, prioritize them.\n",
      "    *   **Egalitarianism:** Prioritize the individual that is the worse off.\n",
      "*   **Assess Consequences & Stakeholder Impacts:**  Create a detailed list of potential consequences, both short-term and long-term, for each decision.  Consider the impact on various stakeholders (families, communities, society as a whole).\n",
      "\n",
      "**3.  Decision Making and Justification:**\n",
      "\n",
      "*   **Transparency and Deliberation:** The decision-making process should be transparent and involve relevant stakeholders (if possible).  Consulting with experts and affected parties can help ensure all perspectives are considered.\n",
      "*   **Justification:** Clearly articulate the reasons for your choice, based on the chosen ethical framework and the specific circumstances of the dilemma.\n",
      "*   **Acknowledge the Harm:** Acknowledge the inherent tragedy of the situation and the unavoidable harm that will result from either decision. Express empathy for those who will be affected.\n",
      "*   **Document the Reasoning:**  Keep a detailed record of the decision-making process, including the information gathered, the ethical frameworks considered, the rationale for the final choice, and any dissenting opinions.  This documentation is crucial for accountability and future review.\n",
      "\n",
      "**Examples of Justifications (Based on Different Frameworks):**\n",
      "\n",
      "*   **Utilitarian Justification:** \"While it is a tragic decision, saving Person A over Person B will result in the greatest overall benefit to society. Person A's work in [field] is crucial for [specific societal benefit], which will impact [number] of people positively. While Person B's life is equally valuable, the societal consequences of losing Person A are significantly greater.\" (This justification needs to be backed by concrete evidence and a well-reasoned cost-benefit analysis.)\n",
      "*   **Deontological Justification (Equal Chance):** \"Because all lives are inherently equal, and there are no overriding factors that justify prioritizing one over the other, a lottery system will be used to determine who is saved. This approach, while emotionally difficult, ensures fairness and avoids arbitrary discrimination.\"\n",
      "*   **Care Ethics Justification (Focus on Vulnerability):** \"Person A is currently dependent on others for survival and is vulnerable to suffering, therefore saving Person A would allow them to continue to live and recover, as well as benefit their loved ones. While Person B is also valuable, the potential of losing Person A would result in greater suffering and broken relationships.\"\n",
      "\n",
      "**Important Considerations:**\n",
      "\n",
      "*   **The Slippery Slope:** Be aware of the potential for this decision to set a precedent. Could this justify similar decisions in the future, even in less compelling circumstances?\n",
      "*   **Unintended Consequences:**  Ethical decision-making is rarely perfect. Be prepared for unintended consequences and be willing to adapt your approach if necessary.\n",
      "*   **Public Perception:**  Regardless of the decision, there will likely be public scrutiny and criticism. Be prepared to defend your choice and address concerns.\n",
      "*   **The Role of Emotions:** While it's important to be rational, emotions cannot be entirely ignored. Acknowledge the emotional impact of the decision on yourself and others.\n",
      "\n",
      "**In conclusion, resolving a moral dilemma of this magnitude requires a rigorous, transparent, and ethically informed process. The justification for any decision must be grounded in a well-defined ethical framework, supported by evidence, and communicated with empathy and humility.** It's a process of striving to minimize harm and maximize good, while acknowledging the inherent limitations of human decision-making in the face of profound moral complexity.\n",
      "\n",
      "\n",
      "# Response from competitor 4\n",
      "\n",
      "Resolving a moral dilemma where saving one person over another has significant societal impact requires a structured ethical framework to justify the decision. Here’s how I would approach it:\n",
      "\n",
      "### 1. **Define the Dilemma Clearly**\n",
      "   - Identify the two individuals (or groups) at stake and the consequences of saving each.\n",
      "   - Clarify the societal impact (e.g., loss of a key leader, erosion of trust, or long-term harm to a community).\n",
      "\n",
      "### 2. **Apply Ethical Frameworks**\n",
      "   I would evaluate the dilemma through multiple lenses:\n",
      "   - **Utilitarianism**: Choose the option that maximizes overall well-being or minimizes harm to society. If one person’s survival leads to greater collective good (e.g., a doctor who can save many lives), this framework would favor saving them.\n",
      "   - **Deontological Ethics**: Focus on moral duties (e.g., \"do not kill\"). If one choice violates a fundamental principle (e.g., fairness or equality), it may be rejected regardless of consequences.\n",
      "   - **Virtue Ethics**: Consider what a morally exemplary person would do (e.g., compassion, wisdom). This might prioritize the most vulnerable or deserving individual.\n",
      "   - **Rights-Based Ethics**: Prioritize the person whose fundamental rights (e.g., life, liberty) are most at stake or whose loss would undermine societal justice.\n",
      "\n",
      "### 3. **Assess Societal Impact**\n",
      "   - Would saving one person set a dangerous precedent (e.g., valuing some lives over others)? \n",
      "   - Does one choice align with long-term societal values (e.g., equity, stability)?\n",
      "   - Are there indirect effects (e.g., loss of public trust if the decision appears arbitrary or biased)?\n",
      "\n",
      "### 4. **Mitigate Harm**\n",
      "   - Explore alternatives to avoid the dilemma entirely (e.g., finding a way to save both).\n",
      "   - If unavoidable, seek compensatory measures (e.g., supporting the affected community post-decision).\n",
      "\n",
      "### 5. **Justify the Choice**\n",
      "   The final decision would rest on which framework best aligns with the context, justified transparently. For example:\n",
      "   - **Utilitarian Justification**: \"Saving Person A (a scientist close to a vaccine breakthrough) over Person B (an ordinary citizen) could save thousands of lives, justifying the greater societal benefit.\"\n",
      "   - **Deontological Justification**: \"Choosing by lottery ensures fairness, upholding the principle that all lives have equal inherent value, even if the societal outcome is less optimal.\"\n",
      "   - **Rights-Based Justification**: \"Person B is a marginalized individual; saving them rectifies systemic inequities, reinforcing societal justice.\"\n",
      "\n",
      "### 6. **Acknowledge Moral Residue**\n",
      "   Recognize that no choice may feel fully \"right,\" and the emotional or moral toll on decision-makers is part of the process.\n",
      "\n",
      "### Example Scenario:\n",
      "*Dilemma*: A hospital must choose between saving a renowned activist (whose work benefits millions) or a child (symbolizing innocence but with no broader impact).  \n",
      "*Approach*:  \n",
      "- Utilitarianism favors the activist (greater societal good).  \n",
      "- Virtue ethics might favor the child (compassion for the vulnerable).  \n",
      "*Justification*: \"While saving the activist aligns with measurable societal benefit, prioritizing the child upholds the intrinsic value of every life and avoids instrumentalizing human worth. We choose the child to preserve moral integrity, even at a utilitarian cost.\"\n",
      "\n",
      "Ultimately, the \"right\" answer depends on which ethical priorities (outcomes, principles, or virtues) are deemed most salient in the context. Transparency about the reasoning is key to societal acceptance.\n",
      "\n",
      "# Response from competitor 5\n",
      "\n",
      "Resolving a moral dilemma involving saving one person over another, with significant societal impact, requires careful consideration of various factors and a nuanced approach. Here's a step-by-step framework to help guide the decision-making process:\n",
      "\n",
      "1. **Clearly define the situation**: Understand the context, the individuals involved, and the potential consequences of each possible decision. Identify the moral principles at stake, such as the value of human life, fairness, and justice.\n",
      "2. **Gather relevant information**: Collect data on the individuals involved, including their backgrounds, skills, and potential contributions to society. Consider the short-term and long-term implications of saving one person over the other.\n",
      "3. **Evaluate the moral principles**: Weigh the importance of different moral principles, such as:\n",
      "\t* The value of human life: Is one life more valuable than the other?\n",
      "\t* Fairness: Would saving one person be fair to the other, considering their circumstances and potential impact on society?\n",
      "\t* Justice: Would saving one person promote justice, or would it perpetuate inequality?\n",
      "\t* Utilitarianism: Would saving one person lead to the greatest good for the greatest number of people?\n",
      "4. **Consider the societal impact**: Think about the potential consequences of saving one person over the other on the community, society, and future generations. Ask questions like:\n",
      "\t* Will saving one person lead to significant benefits or advancements in a particular field?\n",
      "\t* Will the death of one person have a profound impact on their family, community, or society as a whole?\n",
      "\t* Are there any potential long-term consequences of saving one person over the other, such as setting a precedent or creating a moral obligation?\n",
      "5. **Apply ethical frameworks**: Utilize ethical frameworks, such as:\n",
      "\t* Consequentialism: Focus on the outcomes of each possible decision.\n",
      "\t* Deontology: Consider the moral rules and duties involved, such as the duty to save lives or protect the vulnerable.\n",
      "\t* Virtue ethics: Evaluate the decision based on the character and virtues of the individuals involved.\n",
      "6. **Make a decision**: Based on the analysis, make a decision that aligns with your moral principles and values. Be prepared to justify your choice, considering the potential criticism and alternative perspectives.\n",
      "7. **Justify the decision**: Provide a clear and compelling justification for your choice, addressing the following:\n",
      "\t* The moral principles and values that guided your decision.\n",
      "\t* The potential consequences of your choice, including the societal impact.\n",
      "\t* The potential criticisms and alternative perspectives, and how you addressed them.\n",
      "\t* The potential long-term implications of your decision, and how it may set a precedent or create a moral obligation.\n",
      "\n",
      "Example justification:\n",
      "\n",
      "\"In this situation, I have decided to save Person A, a renowned scientist on the verge of discovering a cure for a deadly disease. While both individuals have inherent value, I believe that saving Person A would lead to a significant positive impact on society, potentially saving countless lives and improving the quality of life for many people. This decision aligns with the moral principle of utilitarianism, as it prioritizes the greatest good for the greatest number of people.\n",
      "\n",
      "I understand that this decision may be criticized for prioritizing one life over another, potentially perpetuating inequality. However, I believe that the potential benefits of saving Person A outweigh the potential costs, and that this decision is fair and just considering the circumstances.\n",
      "\n",
      "In the long term, this decision may set a precedent for prioritizing individuals with significant societal contributions over others. However, I believe that this precedent is justified, as it promotes the greater good and aligns with the moral principle of justice. Ultimately, this decision requires careful consideration of the moral principles and values at stake, and I am prepared to defend my choice and its potential consequences.\"\n",
      "\n",
      "Remember that resolving moral dilemmas is often a complex and subjective process, and there may be no one \"right\" answer. The goal is to make a thoughtful and well-justified decision that aligns with your moral principles and values.\n",
      "\n",
      "# Response from competitor 6\n",
      "\n",
      "When faced with a moral dilemma involving a difficult choice between saving one person over another, I would carefully consider the ethical implications of my decision. Here's a step-by-step approach:\n",
      "\n",
      "1. **Clarify the situation**: Ensure you understand all the facts and circumstances surrounding the dilemma. Consider seeking additional information or clarifying any uncertainties.\n",
      "2. **Reflect on personal values and principles**: Consider your own moral framework, including beliefs about fairness, justice, and human life. What are your core values? How do they relate to this specific situation?\n",
      "3. **Evaluate potential consequences**: Weigh the potential impact of your decision on various stakeholders, including individuals directly affected, society as a whole, and future generations.\n",
      "4. **Consider alternative options**: Explore other possible solutions that might achieve similar outcomes or mitigate negative consequences.\n",
      "5. **Analyze moral principles**: Apply relevant moral principles to your decision-making process. For example:\n",
      "\t* **Utilitarianism**: Act in the way that maximizes overall happiness or well-being, even if it means sacrificing some individuals.\n",
      "\t* **Self-sacrifice**: Prioritize saving those who would be most affected by the outcome, potentially at personal cost.\n",
      "\t* **Equity and fairness**: Strive for a fair distribution of benefits and burdens among relevant parties.\n",
      "6. **Justify your choice**: Once you've made a decision, prepare a thoughtful justification that addresses potential criticisms:\n",
      "\t* **Acknowledge the complexity**: Recognize the multifaceted nature of the dilemma and acknowledge the difficulties involved in making a perfect decision.\n",
      "\t* **Highlight key considerations**: Emphasize the factors that contributed to your choice, such as the potential consequences for individual lives or the broader societal impact.\n",
      "\t* **Offer alternative solutions**: Suggest other approaches that might have achieved similar outcomes, but which would not have been feasible or effective in this situation.\n",
      "\n",
      "Example justification:\n",
      "\n",
      "In this hypothetical scenario, a devastating flood is threatening to destroy two communities: one with mostly young families and another with primarily elderly residents. You are a leader tasked with allocating limited resources to rescue those trapped. Due to logistical constraints, you can only save one community. After careful consideration of the potential consequences and moral principles, I have decided to prioritize saving the community with elderly residents.\n",
      "\n",
      "Justification:\n",
      "\n",
      "* The elderly community is more vulnerable to the flood's effects, as older adults may be less physically capable of escaping on their own.\n",
      "* Prioritizing this community serves a higher public interest by protecting those who are most reliant on social support structures and may have limited access to resources in the aftermath.\n",
      "* While saving the young families would also be important, it is not the only way to support these individuals. Alternative approaches, such as providing aid and assistance after the crisis has passed, could still benefit this community.\n",
      "\n",
      "Remember that justifications will vary depending on individual perspectives, cultural context, and specific circumstances. The key is to thoughtfully consider the moral implications of your decision and be prepared to defend it in a way that respects the values and principles guiding your choice.\n",
      "\n",
      "\n"
     ]
    }
   ],
   "source": [
    "print(together)"
   ]
  },
  {
   "cell_type": "code",
   "execution_count": 31,
   "id": "9b15fb97",
   "metadata": {},
   "outputs": [],
   "source": [
    "judge = f\"\"\"You are judging a competition between {len(competitors)} competitors.\n",
    "Each model has been given this question:\n",
    "\n",
    "{question}\n",
    "\n",
    "Your job is to evaluate each response for clarity and strength of argument, and rank them in order of best to worst.\n",
    "Respond with JSON, and only JSON, with the following format:\n",
    "{{\"results\": [\"best competitor number\", \"second best competitor number\", \"third best competitor number\", ...]}}\n",
    "\n",
    "Here are the responses from each competitor:\n",
    "\n",
    "{together}\n",
    "\n",
    "Now respond with the JSON with the ranked order of the competitors, nothing else. Do not include markdown formatting or code blocks.\"\"\"\n"
   ]
  },
  {
   "cell_type": "code",
   "execution_count": 32,
   "id": "03f5b1c9",
   "metadata": {},
   "outputs": [
    {
     "name": "stdout",
     "output_type": "stream",
     "text": [
      "You are judging a competition between 6 competitors.\n",
      "Each model has been given this question:\n",
      "\n",
      "How would you approach resolving a moral dilemma where the decision to save one person over another would result in a significant societal impact, and how would you justify your choice?\n",
      "\n",
      "Your job is to evaluate each response for clarity and strength of argument, and rank them in order of best to worst.\n",
      "Respond with JSON, and only JSON, with the following format:\n",
      "{\"results\": [\"best competitor number\", \"second best competitor number\", \"third best competitor number\", ...]}\n",
      "\n",
      "Here are the responses from each competitor:\n",
      "\n",
      "# Response from competitor 1\n",
      "\n",
      "Resolving a moral dilemma where saving one person over another has significant societal impacts requires a thoughtful and structured approach. Here’s how I would tackle it:\n",
      "\n",
      "1. **Identify the Stakeholders**: Begin by understanding who the individuals are in the scenario, their roles in society, and how their survival or loss would affect others. This includes considering their contributions to society, their relationships, and what they represent in broader ethical, social, or economic contexts.\n",
      "\n",
      "2. **Assess the Consequences**: Evaluate the potential outcomes of saving each individual. Consider both immediate consequences and long-term societal implications. This might involve weighing factors such as:\n",
      "\n",
      "   - The potential impact on communities, families, and social stability.\n",
      "   - Long-term repercussions for fields such as healthcare, education, or economy.\n",
      "   - The symbolic significance of saving one person over another (e.g., a leader, an innovator, a marginalized individual).\n",
      "\n",
      "3. **Consider Ethical Frameworks**: Employ various ethical theories to guide the decision-making process. For instance:\n",
      "   - **Utilitarianism**: Focus on the greatest good for the greatest number. Evaluate which choice maximizes overall happiness and well-being.\n",
      "   - **Deontological Ethics**: Consider moral duties and rights. Reflect on whether one choice upholds moral principles better than the other.\n",
      "   - **Virtue Ethics**: Assess what a person of good character would do in this situation. This could help in making a more personal and emotionally resonant choice.\n",
      "\n",
      "4. **Reflect on Personal Values**: Consider your own values and biases. Reflect on why you feel drawn to one choice over another. Acknowledge any emotional weight that accompanies the decision; personal biases should be considered but not allowed to dominate.\n",
      "\n",
      "5. **Consult Diverse Perspectives**: If possible, engage with others for their insights. Diverse viewpoints can reveal blind spots and provide a richer understanding of potential consequences.\n",
      "\n",
      "6. **Make a Decision**: After evaluating the factors above, make a decision based on the analysis. This choice should aim to balance ethical considerations with practical implications.\n",
      "\n",
      "7. **Justification of the Choice**: Clearly articulate the reasons behind the decision. This justification should include:\n",
      "   - A thorough explanation of the reasoning process and ethical frameworks used.\n",
      "   - Acknowledgment of the potential limitations and flaws in the reasoning, reflecting humility about the difficult nature of the choice.\n",
      "   - A consideration of what could be done to mitigate harm to the individual not chosen or to society overall.\n",
      "\n",
      "8. **Plan for Aftermath**: Consider how to address the consequences of the decision, both for the individual who was not saved and for society. This might involve support systems or initiatives that could help address the impact of the choice.\n",
      "\n",
      "Ultimately, moral dilemmas often involve complex and deeply felt consequences, and while there may not be a 'right' answer, a reasoned and compassionate approach can help navigate the challenges involved.\n",
      "\n",
      "# Response from competitor 2\n",
      "\n",
      "# Approaching a Complex Moral Dilemma\n",
      "\n",
      "This is a profound ethical question that touches on several philosophical traditions. I would approach it through multiple lenses:\n",
      "\n",
      "First, I'd carefully consider:\n",
      "- The specific circumstances and available information\n",
      "- Whether there are creative solutions that might save both\n",
      "- My role and responsibilities in the situation\n",
      "\n",
      "If forced to choose, I would weigh several factors:\n",
      "- Immediate consequences for all involved\n",
      "- Long-term societal impacts\n",
      "- Whether special obligations exist to either person\n",
      "- If either person bears special responsibility for the situation\n",
      "\n",
      "Different ethical frameworks offer contrasting guidance:\n",
      "- Utilitarians might prioritize maximizing overall good\n",
      "- Deontologists might focus on duties and rights\n",
      "- Virtue ethicists would consider what a person of good character would do\n",
      "\n",
      "In justifying my choice, I would acknowledge the moral weight of choosing at all, recognize the inherent value of both lives, and explain my reasoning transparently while accepting that reasonable people might disagree.\n",
      "\n",
      "What specific context did you have in mind for this dilemma?\n",
      "\n",
      "# Response from competitor 3\n",
      "\n",
      "This is a profoundly difficult ethical question, and there's no easy or universally accepted answer. Here's my approach, broken down into steps, along with potential justifications:\n",
      "\n",
      "**1.  Identify the Core Dilemma & Gather Information:**\n",
      "\n",
      "*   **Clarify the Stakes:**  What are the potential outcomes of each decision?  What are the potential societal impacts (positive and negative) of saving each person?  How significant are these impacts?\n",
      "*   **Gather Relevant Facts:**  Who are the individuals involved? What are their backgrounds, contributions, skills, potential future contributions, vulnerabilities, dependencies, and responsibilities? What is the nature of the societal impact they represent?  Are there pre-existing laws, regulations, or ethical guidelines that apply? Are there any experts to consult (e.g., ethicists, economists, social scientists)?\n",
      "*   **Consider Alternative Solutions:** Is there any way to save both individuals, mitigate the negative consequences of either choice, or find a third option?  Exploring alternatives is crucial before committing to a difficult choice.\n",
      "\n",
      "**2.  Ethical Frameworks & Prioritization:**\n",
      "\n",
      "*   **Identify Conflicting Values:**  This scenario will likely involve competing values such as:\n",
      "    *   **Justice/Fairness:** Does one person deserve to be saved more than the other based on past actions or contributions?\n",
      "    *   **Utility/Consequentialism:** Which decision produces the greatest good for the greatest number of people?  This requires carefully weighing potential benefits and harms.\n",
      "    *   **Deontology/Duty:**  Are there inherent rights or duties that must be upheld, regardless of the consequences? (e.g., a duty to treat all lives as equally valuable).\n",
      "    *   **Care Ethics:**  Emphasizes relationships, empathy, and the interconnectedness of individuals. Focuses on minimizing harm and maintaining social bonds.\n",
      "*   **Apply Ethical Frameworks:**  Each framework would lead to a different conclusion:\n",
      "    *   **Utilitarianism:**  Choose the option that maximizes overall well-being for society, even if it means sacrificing one individual. This might involve a cost-benefit analysis.\n",
      "    *   **Deontology:**  Focus on upholding moral duties.  If there's a duty to treat all lives equally, a lottery might be the fairest approach. If there's a duty to protect the most vulnerable, prioritize them.\n",
      "    *   **Egalitarianism:** Prioritize the individual that is the worse off.\n",
      "*   **Assess Consequences & Stakeholder Impacts:**  Create a detailed list of potential consequences, both short-term and long-term, for each decision.  Consider the impact on various stakeholders (families, communities, society as a whole).\n",
      "\n",
      "**3.  Decision Making and Justification:**\n",
      "\n",
      "*   **Transparency and Deliberation:** The decision-making process should be transparent and involve relevant stakeholders (if possible).  Consulting with experts and affected parties can help ensure all perspectives are considered.\n",
      "*   **Justification:** Clearly articulate the reasons for your choice, based on the chosen ethical framework and the specific circumstances of the dilemma.\n",
      "*   **Acknowledge the Harm:** Acknowledge the inherent tragedy of the situation and the unavoidable harm that will result from either decision. Express empathy for those who will be affected.\n",
      "*   **Document the Reasoning:**  Keep a detailed record of the decision-making process, including the information gathered, the ethical frameworks considered, the rationale for the final choice, and any dissenting opinions.  This documentation is crucial for accountability and future review.\n",
      "\n",
      "**Examples of Justifications (Based on Different Frameworks):**\n",
      "\n",
      "*   **Utilitarian Justification:** \"While it is a tragic decision, saving Person A over Person B will result in the greatest overall benefit to society. Person A's work in [field] is crucial for [specific societal benefit], which will impact [number] of people positively. While Person B's life is equally valuable, the societal consequences of losing Person A are significantly greater.\" (This justification needs to be backed by concrete evidence and a well-reasoned cost-benefit analysis.)\n",
      "*   **Deontological Justification (Equal Chance):** \"Because all lives are inherently equal, and there are no overriding factors that justify prioritizing one over the other, a lottery system will be used to determine who is saved. This approach, while emotionally difficult, ensures fairness and avoids arbitrary discrimination.\"\n",
      "*   **Care Ethics Justification (Focus on Vulnerability):** \"Person A is currently dependent on others for survival and is vulnerable to suffering, therefore saving Person A would allow them to continue to live and recover, as well as benefit their loved ones. While Person B is also valuable, the potential of losing Person A would result in greater suffering and broken relationships.\"\n",
      "\n",
      "**Important Considerations:**\n",
      "\n",
      "*   **The Slippery Slope:** Be aware of the potential for this decision to set a precedent. Could this justify similar decisions in the future, even in less compelling circumstances?\n",
      "*   **Unintended Consequences:**  Ethical decision-making is rarely perfect. Be prepared for unintended consequences and be willing to adapt your approach if necessary.\n",
      "*   **Public Perception:**  Regardless of the decision, there will likely be public scrutiny and criticism. Be prepared to defend your choice and address concerns.\n",
      "*   **The Role of Emotions:** While it's important to be rational, emotions cannot be entirely ignored. Acknowledge the emotional impact of the decision on yourself and others.\n",
      "\n",
      "**In conclusion, resolving a moral dilemma of this magnitude requires a rigorous, transparent, and ethically informed process. The justification for any decision must be grounded in a well-defined ethical framework, supported by evidence, and communicated with empathy and humility.** It's a process of striving to minimize harm and maximize good, while acknowledging the inherent limitations of human decision-making in the face of profound moral complexity.\n",
      "\n",
      "\n",
      "# Response from competitor 4\n",
      "\n",
      "Resolving a moral dilemma where saving one person over another has significant societal impact requires a structured ethical framework to justify the decision. Here’s how I would approach it:\n",
      "\n",
      "### 1. **Define the Dilemma Clearly**\n",
      "   - Identify the two individuals (or groups) at stake and the consequences of saving each.\n",
      "   - Clarify the societal impact (e.g., loss of a key leader, erosion of trust, or long-term harm to a community).\n",
      "\n",
      "### 2. **Apply Ethical Frameworks**\n",
      "   I would evaluate the dilemma through multiple lenses:\n",
      "   - **Utilitarianism**: Choose the option that maximizes overall well-being or minimizes harm to society. If one person’s survival leads to greater collective good (e.g., a doctor who can save many lives), this framework would favor saving them.\n",
      "   - **Deontological Ethics**: Focus on moral duties (e.g., \"do not kill\"). If one choice violates a fundamental principle (e.g., fairness or equality), it may be rejected regardless of consequences.\n",
      "   - **Virtue Ethics**: Consider what a morally exemplary person would do (e.g., compassion, wisdom). This might prioritize the most vulnerable or deserving individual.\n",
      "   - **Rights-Based Ethics**: Prioritize the person whose fundamental rights (e.g., life, liberty) are most at stake or whose loss would undermine societal justice.\n",
      "\n",
      "### 3. **Assess Societal Impact**\n",
      "   - Would saving one person set a dangerous precedent (e.g., valuing some lives over others)? \n",
      "   - Does one choice align with long-term societal values (e.g., equity, stability)?\n",
      "   - Are there indirect effects (e.g., loss of public trust if the decision appears arbitrary or biased)?\n",
      "\n",
      "### 4. **Mitigate Harm**\n",
      "   - Explore alternatives to avoid the dilemma entirely (e.g., finding a way to save both).\n",
      "   - If unavoidable, seek compensatory measures (e.g., supporting the affected community post-decision).\n",
      "\n",
      "### 5. **Justify the Choice**\n",
      "   The final decision would rest on which framework best aligns with the context, justified transparently. For example:\n",
      "   - **Utilitarian Justification**: \"Saving Person A (a scientist close to a vaccine breakthrough) over Person B (an ordinary citizen) could save thousands of lives, justifying the greater societal benefit.\"\n",
      "   - **Deontological Justification**: \"Choosing by lottery ensures fairness, upholding the principle that all lives have equal inherent value, even if the societal outcome is less optimal.\"\n",
      "   - **Rights-Based Justification**: \"Person B is a marginalized individual; saving them rectifies systemic inequities, reinforcing societal justice.\"\n",
      "\n",
      "### 6. **Acknowledge Moral Residue**\n",
      "   Recognize that no choice may feel fully \"right,\" and the emotional or moral toll on decision-makers is part of the process.\n",
      "\n",
      "### Example Scenario:\n",
      "*Dilemma*: A hospital must choose between saving a renowned activist (whose work benefits millions) or a child (symbolizing innocence but with no broader impact).  \n",
      "*Approach*:  \n",
      "- Utilitarianism favors the activist (greater societal good).  \n",
      "- Virtue ethics might favor the child (compassion for the vulnerable).  \n",
      "*Justification*: \"While saving the activist aligns with measurable societal benefit, prioritizing the child upholds the intrinsic value of every life and avoids instrumentalizing human worth. We choose the child to preserve moral integrity, even at a utilitarian cost.\"\n",
      "\n",
      "Ultimately, the \"right\" answer depends on which ethical priorities (outcomes, principles, or virtues) are deemed most salient in the context. Transparency about the reasoning is key to societal acceptance.\n",
      "\n",
      "# Response from competitor 5\n",
      "\n",
      "Resolving a moral dilemma involving saving one person over another, with significant societal impact, requires careful consideration of various factors and a nuanced approach. Here's a step-by-step framework to help guide the decision-making process:\n",
      "\n",
      "1. **Clearly define the situation**: Understand the context, the individuals involved, and the potential consequences of each possible decision. Identify the moral principles at stake, such as the value of human life, fairness, and justice.\n",
      "2. **Gather relevant information**: Collect data on the individuals involved, including their backgrounds, skills, and potential contributions to society. Consider the short-term and long-term implications of saving one person over the other.\n",
      "3. **Evaluate the moral principles**: Weigh the importance of different moral principles, such as:\n",
      "\t* The value of human life: Is one life more valuable than the other?\n",
      "\t* Fairness: Would saving one person be fair to the other, considering their circumstances and potential impact on society?\n",
      "\t* Justice: Would saving one person promote justice, or would it perpetuate inequality?\n",
      "\t* Utilitarianism: Would saving one person lead to the greatest good for the greatest number of people?\n",
      "4. **Consider the societal impact**: Think about the potential consequences of saving one person over the other on the community, society, and future generations. Ask questions like:\n",
      "\t* Will saving one person lead to significant benefits or advancements in a particular field?\n",
      "\t* Will the death of one person have a profound impact on their family, community, or society as a whole?\n",
      "\t* Are there any potential long-term consequences of saving one person over the other, such as setting a precedent or creating a moral obligation?\n",
      "5. **Apply ethical frameworks**: Utilize ethical frameworks, such as:\n",
      "\t* Consequentialism: Focus on the outcomes of each possible decision.\n",
      "\t* Deontology: Consider the moral rules and duties involved, such as the duty to save lives or protect the vulnerable.\n",
      "\t* Virtue ethics: Evaluate the decision based on the character and virtues of the individuals involved.\n",
      "6. **Make a decision**: Based on the analysis, make a decision that aligns with your moral principles and values. Be prepared to justify your choice, considering the potential criticism and alternative perspectives.\n",
      "7. **Justify the decision**: Provide a clear and compelling justification for your choice, addressing the following:\n",
      "\t* The moral principles and values that guided your decision.\n",
      "\t* The potential consequences of your choice, including the societal impact.\n",
      "\t* The potential criticisms and alternative perspectives, and how you addressed them.\n",
      "\t* The potential long-term implications of your decision, and how it may set a precedent or create a moral obligation.\n",
      "\n",
      "Example justification:\n",
      "\n",
      "\"In this situation, I have decided to save Person A, a renowned scientist on the verge of discovering a cure for a deadly disease. While both individuals have inherent value, I believe that saving Person A would lead to a significant positive impact on society, potentially saving countless lives and improving the quality of life for many people. This decision aligns with the moral principle of utilitarianism, as it prioritizes the greatest good for the greatest number of people.\n",
      "\n",
      "I understand that this decision may be criticized for prioritizing one life over another, potentially perpetuating inequality. However, I believe that the potential benefits of saving Person A outweigh the potential costs, and that this decision is fair and just considering the circumstances.\n",
      "\n",
      "In the long term, this decision may set a precedent for prioritizing individuals with significant societal contributions over others. However, I believe that this precedent is justified, as it promotes the greater good and aligns with the moral principle of justice. Ultimately, this decision requires careful consideration of the moral principles and values at stake, and I am prepared to defend my choice and its potential consequences.\"\n",
      "\n",
      "Remember that resolving moral dilemmas is often a complex and subjective process, and there may be no one \"right\" answer. The goal is to make a thoughtful and well-justified decision that aligns with your moral principles and values.\n",
      "\n",
      "# Response from competitor 6\n",
      "\n",
      "When faced with a moral dilemma involving a difficult choice between saving one person over another, I would carefully consider the ethical implications of my decision. Here's a step-by-step approach:\n",
      "\n",
      "1. **Clarify the situation**: Ensure you understand all the facts and circumstances surrounding the dilemma. Consider seeking additional information or clarifying any uncertainties.\n",
      "2. **Reflect on personal values and principles**: Consider your own moral framework, including beliefs about fairness, justice, and human life. What are your core values? How do they relate to this specific situation?\n",
      "3. **Evaluate potential consequences**: Weigh the potential impact of your decision on various stakeholders, including individuals directly affected, society as a whole, and future generations.\n",
      "4. **Consider alternative options**: Explore other possible solutions that might achieve similar outcomes or mitigate negative consequences.\n",
      "5. **Analyze moral principles**: Apply relevant moral principles to your decision-making process. For example:\n",
      "\t* **Utilitarianism**: Act in the way that maximizes overall happiness or well-being, even if it means sacrificing some individuals.\n",
      "\t* **Self-sacrifice**: Prioritize saving those who would be most affected by the outcome, potentially at personal cost.\n",
      "\t* **Equity and fairness**: Strive for a fair distribution of benefits and burdens among relevant parties.\n",
      "6. **Justify your choice**: Once you've made a decision, prepare a thoughtful justification that addresses potential criticisms:\n",
      "\t* **Acknowledge the complexity**: Recognize the multifaceted nature of the dilemma and acknowledge the difficulties involved in making a perfect decision.\n",
      "\t* **Highlight key considerations**: Emphasize the factors that contributed to your choice, such as the potential consequences for individual lives or the broader societal impact.\n",
      "\t* **Offer alternative solutions**: Suggest other approaches that might have achieved similar outcomes, but which would not have been feasible or effective in this situation.\n",
      "\n",
      "Example justification:\n",
      "\n",
      "In this hypothetical scenario, a devastating flood is threatening to destroy two communities: one with mostly young families and another with primarily elderly residents. You are a leader tasked with allocating limited resources to rescue those trapped. Due to logistical constraints, you can only save one community. After careful consideration of the potential consequences and moral principles, I have decided to prioritize saving the community with elderly residents.\n",
      "\n",
      "Justification:\n",
      "\n",
      "* The elderly community is more vulnerable to the flood's effects, as older adults may be less physically capable of escaping on their own.\n",
      "* Prioritizing this community serves a higher public interest by protecting those who are most reliant on social support structures and may have limited access to resources in the aftermath.\n",
      "* While saving the young families would also be important, it is not the only way to support these individuals. Alternative approaches, such as providing aid and assistance after the crisis has passed, could still benefit this community.\n",
      "\n",
      "Remember that justifications will vary depending on individual perspectives, cultural context, and specific circumstances. The key is to thoughtfully consider the moral implications of your decision and be prepared to defend it in a way that respects the values and principles guiding your choice.\n",
      "\n",
      "\n",
      "\n",
      "Now respond with the JSON with the ranked order of the competitors, nothing else. Do not include markdown formatting or code blocks.\n"
     ]
    }
   ],
   "source": [
    "print(judge)"
   ]
  },
  {
   "cell_type": "code",
   "execution_count": 33,
   "id": "bca9702a",
   "metadata": {},
   "outputs": [],
   "source": [
    "judge_messages = [{\"role\": \"user\", \"content\": judge}]"
   ]
  },
  {
   "cell_type": "code",
   "execution_count": 34,
   "id": "b0f93bca",
   "metadata": {},
   "outputs": [
    {
     "name": "stdout",
     "output_type": "stream",
     "text": [
      "{\"results\": [\"3\", \"1\", \"4\", \"5\", \"6\", \"2\"]}\n"
     ]
    }
   ],
   "source": [
    "# Judgement time!\n",
    "\n",
    "openai = OpenAI()\n",
    "response = openai.chat.completions.create(\n",
    "    model=\"o3-mini\",\n",
    "    messages=judge_messages,\n",
    ")\n",
    "judge_o3_mini = response.choices[0].message.content\n",
    "print(judge_o3_mini)\n"
   ]
  },
  {
   "cell_type": "markdown",
   "id": "906189fc",
   "metadata": {},
   "source": [
    "## Create a dictionary to cobble all judges into a df"
   ]
  },
  {
   "cell_type": "code",
   "execution_count": 35,
   "id": "8f972bf5",
   "metadata": {},
   "outputs": [],
   "source": [
    "judge_dict = dict()"
   ]
  },
  {
   "cell_type": "code",
   "execution_count": 36,
   "id": "79c4020a",
   "metadata": {},
   "outputs": [
    {
     "name": "stdout",
     "output_type": "stream",
     "text": [
      "Rank 1: gemini-2.0-flash\n",
      "Rank 2: gpt-4o-mini\n",
      "Rank 3: deepseek-chat\n",
      "Rank 4: llama-3.3-70b-versatile\n",
      "Rank 5: llama3\n",
      "Rank 6: claude-3-7-sonnet-latest\n"
     ]
    }
   ],
   "source": [
    "# OK let's turn this into results!\n",
    "\n",
    "results_dict = json.loads(judge_o3_mini)\n",
    "ranks = results_dict[\"results\"]\n",
    "for index, result in enumerate(ranks):\n",
    "    competitor = competitors[int(result)-1]\n",
    "    print(f\"Rank {index+1}: {competitor}\")"
   ]
  },
  {
   "cell_type": "code",
   "execution_count": 37,
   "id": "e46b0ba5",
   "metadata": {},
   "outputs": [],
   "source": [
    "judge_dict['judge_03_mini'] = [competitors[int(i)-1] for i in ranks]"
   ]
  },
  {
   "cell_type": "code",
   "execution_count": 38,
   "id": "703debcf",
   "metadata": {},
   "outputs": [
    {
     "name": "stdout",
     "output_type": "stream",
     "text": [
      "{\"results\": [\"3\", \"1\", \"4\", \"5\", \"2\", \"6\"]}\n"
     ]
    }
   ],
   "source": [
    "model_name = \"claude-3-7-sonnet-latest\"\n",
    "\n",
    "claude = Anthropic()\n",
    "response = claude.messages.create(model=model_name, messages=judge_messages, max_tokens=1000)\n",
    "judge_anthropic = response.content[0].text\n",
    "\n",
    "print(judge_anthropic)\n"
   ]
  },
  {
   "cell_type": "code",
   "execution_count": 39,
   "id": "754a28be",
   "metadata": {},
   "outputs": [
    {
     "name": "stdout",
     "output_type": "stream",
     "text": [
      "Rank 1: gemini-2.0-flash\n",
      "Rank 2: gpt-4o-mini\n",
      "Rank 3: deepseek-chat\n",
      "Rank 4: llama-3.3-70b-versatile\n",
      "Rank 5: claude-3-7-sonnet-latest\n",
      "Rank 6: llama3\n"
     ]
    }
   ],
   "source": [
    "results_dict = json.loads(judge_anthropic)\n",
    "ranks = results_dict[\"results\"]\n",
    "for index, result in enumerate(ranks):\n",
    "    competitor = competitors[int(result)-1]\n",
    "    print(f\"Rank {index+1}: {competitor}\")"
   ]
  },
  {
   "cell_type": "code",
   "execution_count": 40,
   "id": "11f8ba18",
   "metadata": {},
   "outputs": [],
   "source": [
    "judge_dict['judge_anthropic'] = [competitors[int(i)-1] for i in ranks]"
   ]
  },
  {
   "cell_type": "code",
   "execution_count": 41,
   "id": "681a2cbb",
   "metadata": {},
   "outputs": [
    {
     "name": "stdout",
     "output_type": "stream",
     "text": [
      "{\"results\": [\"3\", \"1\", \"4\", \"5\", \"6\", \"2\"]}\n",
      "\n"
     ]
    }
   ],
   "source": [
    "gemini = OpenAI(api_key=google_api_key, base_url=\"https://generativelanguage.googleapis.com/v1beta/openai/\")\n",
    "model_name = \"gemini-2.0-flash\"\n",
    "\n",
    "response = gemini.chat.completions.create(model=model_name, messages=judge_messages)\n",
    "judge_gemini = response.choices[0].message.content\n",
    "\n",
    "print(judge_gemini)"
   ]
  },
  {
   "cell_type": "code",
   "execution_count": 42,
   "id": "0de605f4",
   "metadata": {},
   "outputs": [
    {
     "name": "stdout",
     "output_type": "stream",
     "text": [
      "Rank 1: gemini-2.0-flash\n",
      "Rank 2: gpt-4o-mini\n",
      "Rank 3: deepseek-chat\n",
      "Rank 4: llama-3.3-70b-versatile\n",
      "Rank 5: llama3\n",
      "Rank 6: claude-3-7-sonnet-latest\n"
     ]
    }
   ],
   "source": [
    "results_dict = json.loads(judge_gemini)\n",
    "ranks = results_dict[\"results\"]\n",
    "for index, result in enumerate(ranks):\n",
    "    competitor = competitors[int(result)-1]\n",
    "    print(f\"Rank {index+1}: {competitor}\")"
   ]
  },
  {
   "cell_type": "code",
   "execution_count": 43,
   "id": "3c6072d2",
   "metadata": {},
   "outputs": [],
   "source": [
    "judge_dict['judge_gemini'] = [competitors[int(i)-1] for i in ranks]"
   ]
  },
  {
   "cell_type": "code",
   "execution_count": 76,
   "id": "83ff2ad6",
   "metadata": {},
   "outputs": [
    {
     "name": "stdout",
     "output_type": "stream",
     "text": [
      "```json\n",
      "{\"results\": [\"3\", \"1\", \"4\", \"5\", \"2\", \"6\"]}\n",
      "```\n"
     ]
    }
   ],
   "source": [
    "deepseek = OpenAI(api_key=deepseek_api_key, base_url=\"https://api.deepseek.com/v1\")\n",
    "model_name = \"deepseek-chat\"\n",
    "\n",
    "response = deepseek.chat.completions.create(model=model_name, messages=judge_messages)\n",
    "judge_deepseek = response.choices[0].message.content\n",
    "\n",
    "print(judge_deepseek)"
   ]
  },
  {
   "cell_type": "code",
   "execution_count": null,
   "id": "c62cc159",
   "metadata": {},
   "outputs": [],
   "source": [
    "# deepseek returned following, so did some cleanup\n",
    "# ```json\n",
    "#{\"results\": [\"3\", \"1\", \"4\", \"5\", \"2\", \"6\"]}\n",
    "#```\n",
    "judge_deepseek = judge_deepseek.strip().removeprefix(\"```json\").removesuffix(\"```\").replace(\"competitor \",\"\")\n"
   ]
  },
  {
   "cell_type": "code",
   "execution_count": 78,
   "id": "cc33fc00",
   "metadata": {},
   "outputs": [
    {
     "name": "stdout",
     "output_type": "stream",
     "text": [
      "\n",
      "{\"results\": [\"3\", \"1\", \"4\", \"5\", \"2\", \"6\"]}\n",
      "\n"
     ]
    }
   ],
   "source": [
    "print(judge_deepseek)"
   ]
  },
  {
   "cell_type": "code",
   "execution_count": 79,
   "id": "1ad1f121",
   "metadata": {},
   "outputs": [
    {
     "name": "stdout",
     "output_type": "stream",
     "text": [
      "Rank 1: gemini-2.0-flash\n",
      "Rank 2: gpt-4o-mini\n",
      "Rank 3: deepseek-chat\n",
      "Rank 4: llama-3.3-70b-versatile\n",
      "Rank 5: claude-3-7-sonnet-latest\n",
      "Rank 6: llama3\n"
     ]
    }
   ],
   "source": [
    "results_dict = json.loads(judge_deepseek)\n",
    "ranks = results_dict[\"results\"]\n",
    "for index, result in enumerate(ranks):\n",
    "    competitor = competitors[int(result)-1]\n",
    "    print(f\"Rank {index+1}: {competitor}\")"
   ]
  },
  {
   "cell_type": "code",
   "execution_count": 80,
   "id": "ae9371d9",
   "metadata": {},
   "outputs": [],
   "source": [
    "judge_dict['judge_deepseek'] = [competitors[int(i)-1] for i in ranks]"
   ]
  },
  {
   "cell_type": "code",
   "execution_count": 81,
   "id": "e243bbd3",
   "metadata": {},
   "outputs": [],
   "source": [
    "groq = OpenAI(api_key=groq_api_key, base_url=\"https://api.groq.com/openai/v1\")\n",
    "model_name = \"llama-3.3-70b-versatile\"\n",
    "\n",
    "response = groq.chat.completions.create(model=model_name, messages=judge_messages)\n",
    "judge_groq = response.choices[0].message.content"
   ]
  },
  {
   "cell_type": "code",
   "execution_count": 82,
   "id": "2627a879",
   "metadata": {},
   "outputs": [
    {
     "name": "stdout",
     "output_type": "stream",
     "text": [
      "Rank 1: gpt-4o-mini\n",
      "Rank 2: gemini-2.0-flash\n",
      "Rank 3: deepseek-chat\n",
      "Rank 4: llama-3.3-70b-versatile\n",
      "Rank 5: llama3\n",
      "Rank 6: claude-3-7-sonnet-latest\n"
     ]
    }
   ],
   "source": [
    "results_dict = json.loads(judge_groq)\n",
    "ranks = results_dict[\"results\"]\n",
    "for index, result in enumerate(ranks):\n",
    "    competitor = competitors[int(result)-1]\n",
    "    print(f\"Rank {index+1}: {competitor}\")"
   ]
  },
  {
   "cell_type": "code",
   "execution_count": 83,
   "id": "f153b7c2",
   "metadata": {},
   "outputs": [],
   "source": [
    "judge_dict['judge_groq'] = [competitors[int(i)-1] for i in ranks]"
   ]
  },
  {
   "cell_type": "code",
   "execution_count": 118,
   "id": "61a6a625",
   "metadata": {},
   "outputs": [
    {
     "name": "stdout",
     "output_type": "stream",
     "text": [
      "{\n",
      "\"ranked_order\": [\n",
      "1,\n",
      "2,\n",
      "4,\n",
      "5,\n",
      "3,\n",
      "6\n",
      "],\n",
      "\"total_score\": [84, 81, 78, 76, 74, 72]\n",
      "}\n"
     ]
    }
   ],
   "source": [
    "ollama = OpenAI(base_url='http://localhost:11434/v1', api_key='ollama')\n",
    "#model_name = \"llama3.2\"\n",
    "model_name =\"llama3\"\n",
    "\n",
    "response = ollama.chat.completions.create(model=model_name, messages=judge_messages)\n",
    "judge_ollama = response.choices[0].message.content\n",
    "\n",
    "print(judge_ollama)\n"
   ]
  },
  {
   "cell_type": "code",
   "execution_count": 119,
   "id": "63328a1e",
   "metadata": {},
   "outputs": [
    {
     "name": "stdout",
     "output_type": "stream",
     "text": [
      "Rank 1: gpt-4o-mini\n",
      "Rank 2: claude-3-7-sonnet-latest\n",
      "Rank 3: deepseek-chat\n",
      "Rank 4: llama-3.3-70b-versatile\n",
      "Rank 5: gemini-2.0-flash\n",
      "Rank 6: llama3\n"
     ]
    }
   ],
   "source": [
    "results_dict = json.loads(judge_ollama)\n",
    "ranks = results_dict[\"ranked_order\"]\n",
    "for index, result in enumerate(ranks):\n",
    "    competitor = competitors[int(result)-1]\n",
    "    print(f\"Rank {index+1}: {competitor}\")"
   ]
  },
  {
   "cell_type": "code",
   "execution_count": 120,
   "id": "38803832",
   "metadata": {},
   "outputs": [],
   "source": [
    "judge_dict['judge_ollama'] = [competitors[int(i)-1] for i in ranks]"
   ]
  },
  {
   "cell_type": "code",
   "execution_count": 121,
   "id": "2110f9db",
   "metadata": {},
   "outputs": [
    {
     "data": {
      "text/html": [
       "<div>\n",
       "<style scoped>\n",
       "    .dataframe tbody tr th:only-of-type {\n",
       "        vertical-align: middle;\n",
       "    }\n",
       "\n",
       "    .dataframe tbody tr th {\n",
       "        vertical-align: top;\n",
       "    }\n",
       "\n",
       "    .dataframe thead th {\n",
       "        text-align: right;\n",
       "    }\n",
       "</style>\n",
       "<table border=\"1\" class=\"dataframe\">\n",
       "  <thead>\n",
       "    <tr style=\"text-align: right;\">\n",
       "      <th></th>\n",
       "      <th>judges</th>\n",
       "      <th>1</th>\n",
       "      <th>2</th>\n",
       "      <th>3</th>\n",
       "      <th>4</th>\n",
       "      <th>5</th>\n",
       "      <th>6</th>\n",
       "    </tr>\n",
       "  </thead>\n",
       "  <tbody>\n",
       "    <tr>\n",
       "      <th>0</th>\n",
       "      <td>judge_03_mini</td>\n",
       "      <td>gemini-2.0-flash</td>\n",
       "      <td>gpt-4o-mini</td>\n",
       "      <td>deepseek-chat</td>\n",
       "      <td>llama-3.3-70b-versatile</td>\n",
       "      <td>llama3</td>\n",
       "      <td>claude-3-7-sonnet-latest</td>\n",
       "    </tr>\n",
       "    <tr>\n",
       "      <th>1</th>\n",
       "      <td>judge_anthropic</td>\n",
       "      <td>gemini-2.0-flash</td>\n",
       "      <td>gpt-4o-mini</td>\n",
       "      <td>deepseek-chat</td>\n",
       "      <td>llama-3.3-70b-versatile</td>\n",
       "      <td>claude-3-7-sonnet-latest</td>\n",
       "      <td>llama3</td>\n",
       "    </tr>\n",
       "    <tr>\n",
       "      <th>2</th>\n",
       "      <td>judge_gemini</td>\n",
       "      <td>gemini-2.0-flash</td>\n",
       "      <td>gpt-4o-mini</td>\n",
       "      <td>deepseek-chat</td>\n",
       "      <td>llama-3.3-70b-versatile</td>\n",
       "      <td>llama3</td>\n",
       "      <td>claude-3-7-sonnet-latest</td>\n",
       "    </tr>\n",
       "    <tr>\n",
       "      <th>3</th>\n",
       "      <td>judge_deepseek</td>\n",
       "      <td>gemini-2.0-flash</td>\n",
       "      <td>gpt-4o-mini</td>\n",
       "      <td>deepseek-chat</td>\n",
       "      <td>llama-3.3-70b-versatile</td>\n",
       "      <td>claude-3-7-sonnet-latest</td>\n",
       "      <td>llama3</td>\n",
       "    </tr>\n",
       "    <tr>\n",
       "      <th>4</th>\n",
       "      <td>judge_groq</td>\n",
       "      <td>gpt-4o-mini</td>\n",
       "      <td>gemini-2.0-flash</td>\n",
       "      <td>deepseek-chat</td>\n",
       "      <td>llama-3.3-70b-versatile</td>\n",
       "      <td>llama3</td>\n",
       "      <td>claude-3-7-sonnet-latest</td>\n",
       "    </tr>\n",
       "    <tr>\n",
       "      <th>5</th>\n",
       "      <td>judge_ollama</td>\n",
       "      <td>gpt-4o-mini</td>\n",
       "      <td>claude-3-7-sonnet-latest</td>\n",
       "      <td>deepseek-chat</td>\n",
       "      <td>llama-3.3-70b-versatile</td>\n",
       "      <td>gemini-2.0-flash</td>\n",
       "      <td>llama3</td>\n",
       "    </tr>\n",
       "  </tbody>\n",
       "</table>\n",
       "</div>"
      ],
      "text/plain": [
       "            judges                 1                         2              3  \\\n",
       "0    judge_03_mini  gemini-2.0-flash               gpt-4o-mini  deepseek-chat   \n",
       "1  judge_anthropic  gemini-2.0-flash               gpt-4o-mini  deepseek-chat   \n",
       "2     judge_gemini  gemini-2.0-flash               gpt-4o-mini  deepseek-chat   \n",
       "3   judge_deepseek  gemini-2.0-flash               gpt-4o-mini  deepseek-chat   \n",
       "4       judge_groq       gpt-4o-mini          gemini-2.0-flash  deepseek-chat   \n",
       "5     judge_ollama       gpt-4o-mini  claude-3-7-sonnet-latest  deepseek-chat   \n",
       "\n",
       "                         4                         5                         6  \n",
       "0  llama-3.3-70b-versatile                    llama3  claude-3-7-sonnet-latest  \n",
       "1  llama-3.3-70b-versatile  claude-3-7-sonnet-latest                    llama3  \n",
       "2  llama-3.3-70b-versatile                    llama3  claude-3-7-sonnet-latest  \n",
       "3  llama-3.3-70b-versatile  claude-3-7-sonnet-latest                    llama3  \n",
       "4  llama-3.3-70b-versatile                    llama3  claude-3-7-sonnet-latest  \n",
       "5  llama-3.3-70b-versatile          gemini-2.0-flash                    llama3  "
      ]
     },
     "execution_count": 121,
     "metadata": {},
     "output_type": "execute_result"
    }
   ],
   "source": [
    "judge_df = pd.DataFrame(judge_dict).T.reset_index()\n",
    "judge_df.columns = ['judges'] + list(range(1, len(judge_df.columns)))\n",
    "judge_df\n",
    "\n"
   ]
  },
  {
   "cell_type": "code",
   "execution_count": 163,
   "id": "3cc8a78a",
   "metadata": {},
   "outputs": [
    {
     "name": "stdout",
     "output_type": "stream",
     "text": [
      "| llm                      |   ('Judges', '03_mini') |   ('Judges', 'anthropic') |   ('Judges', 'deepseek') |   ('Judges', 'gemini') |   ('Judges', 'groq') |   ('Judges', 'ollama') |   ('Judges', 'mean') |   ('Judges', 'median') |\n",
      "|:-------------------------|------------------------:|--------------------------:|-------------------------:|-----------------------:|---------------------:|-----------------------:|---------------------:|-----------------------:|\n",
      "| gpt-4o-mini              |                       2 |                         2 |                        2 |                      2 |                    1 |                      1 |                  1.7 |                      2 |\n",
      "| gemini-2.0-flash         |                       1 |                         1 |                        1 |                      1 |                    2 |                      5 |                  1.8 |                      1 |\n",
      "| deepseek-chat            |                       3 |                         3 |                        3 |                      3 |                    3 |                      3 |                  3   |                      3 |\n",
      "| llama-3.3-70b-versatile  |                       4 |                         4 |                        4 |                      4 |                    4 |                      4 |                  4   |                      4 |\n",
      "| claude-3-7-sonnet-latest |                       6 |                         5 |                        5 |                      6 |                    6 |                      2 |                  5   |                      5 |\n",
      "| llama3                   |                       5 |                         6 |                        6 |                      5 |                    5 |                      6 |                  5.5 |                      5 |\n"
     ]
    }
   ],
   "source": [
    "df_melt = judge_df.melt(id_vars=\"judges\", var_name='Rank', value_name=\"llm\")\n",
    "df_melt.Rank = df_melt.Rank.astype(int)\n",
    "result = df_melt.pivot(index='llm', columns='judges', values='Rank').reset_index()\n",
    "result.columns.name = None\n",
    "result = result.set_index('llm')\n",
    "result['mean'] = result.mean(axis=1)\n",
    "result['median'] = result.median(axis=1)\n",
    "result = result.sort_values('mean')\n",
    "result['mean'] = result['mean'].map(lambda x: f\"{x:.1f}\")\n",
    "result['median'] = result['median'].astype(int)\n",
    "result.columns = [x.replace(\"judge_\",\"\") for x in result.columns.to_list()]\n",
    "result.columns = pd.MultiIndex.from_product([[\"Judges\"], result.columns])\n",
    "print(result.to_markdown())"
   ]
  },
  {
   "cell_type": "code",
   "execution_count": null,
   "id": "71bce5ea",
   "metadata": {},
   "outputs": [],
   "source": [
    "print([x.replace(\"\")])"
   ]
  },
  {
   "cell_type": "code",
   "execution_count": 125,
   "id": "36391b69",
   "metadata": {},
   "outputs": [
    {
     "data": {
      "text/html": [
       "<div>\n",
       "<style scoped>\n",
       "    .dataframe tbody tr th:only-of-type {\n",
       "        vertical-align: middle;\n",
       "    }\n",
       "\n",
       "    .dataframe tbody tr th {\n",
       "        vertical-align: top;\n",
       "    }\n",
       "\n",
       "    .dataframe thead th {\n",
       "        text-align: right;\n",
       "    }\n",
       "</style>\n",
       "<table border=\"1\" class=\"dataframe\">\n",
       "  <thead>\n",
       "    <tr style=\"text-align: right;\">\n",
       "      <th>llm</th>\n",
       "      <th>gpt-4o-mini</th>\n",
       "      <th>gemini-2.0-flash</th>\n",
       "      <th>deepseek-chat</th>\n",
       "      <th>llama-3.3-70b-versatile</th>\n",
       "      <th>claude-3-7-sonnet-latest</th>\n",
       "      <th>llama3</th>\n",
       "    </tr>\n",
       "  </thead>\n",
       "  <tbody>\n",
       "    <tr>\n",
       "      <th>judge_03_mini</th>\n",
       "      <td>2.000000</td>\n",
       "      <td>1.000000</td>\n",
       "      <td>3.0</td>\n",
       "      <td>4.0</td>\n",
       "      <td>6.0</td>\n",
       "      <td>5.0</td>\n",
       "    </tr>\n",
       "    <tr>\n",
       "      <th>judge_anthropic</th>\n",
       "      <td>2.000000</td>\n",
       "      <td>1.000000</td>\n",
       "      <td>3.0</td>\n",
       "      <td>4.0</td>\n",
       "      <td>5.0</td>\n",
       "      <td>6.0</td>\n",
       "    </tr>\n",
       "    <tr>\n",
       "      <th>judge_deepseek</th>\n",
       "      <td>2.000000</td>\n",
       "      <td>1.000000</td>\n",
       "      <td>3.0</td>\n",
       "      <td>4.0</td>\n",
       "      <td>5.0</td>\n",
       "      <td>6.0</td>\n",
       "    </tr>\n",
       "    <tr>\n",
       "      <th>judge_gemini</th>\n",
       "      <td>2.000000</td>\n",
       "      <td>1.000000</td>\n",
       "      <td>3.0</td>\n",
       "      <td>4.0</td>\n",
       "      <td>6.0</td>\n",
       "      <td>5.0</td>\n",
       "    </tr>\n",
       "    <tr>\n",
       "      <th>judge_groq</th>\n",
       "      <td>1.000000</td>\n",
       "      <td>2.000000</td>\n",
       "      <td>3.0</td>\n",
       "      <td>4.0</td>\n",
       "      <td>6.0</td>\n",
       "      <td>5.0</td>\n",
       "    </tr>\n",
       "    <tr>\n",
       "      <th>judge_ollama</th>\n",
       "      <td>1.000000</td>\n",
       "      <td>5.000000</td>\n",
       "      <td>3.0</td>\n",
       "      <td>4.0</td>\n",
       "      <td>2.0</td>\n",
       "      <td>6.0</td>\n",
       "    </tr>\n",
       "    <tr>\n",
       "      <th>mean</th>\n",
       "      <td>1.666667</td>\n",
       "      <td>1.833333</td>\n",
       "      <td>3.0</td>\n",
       "      <td>4.0</td>\n",
       "      <td>5.0</td>\n",
       "      <td>5.5</td>\n",
       "    </tr>\n",
       "    <tr>\n",
       "      <th>median</th>\n",
       "      <td>2.000000</td>\n",
       "      <td>1.000000</td>\n",
       "      <td>3.0</td>\n",
       "      <td>4.0</td>\n",
       "      <td>5.0</td>\n",
       "      <td>5.5</td>\n",
       "    </tr>\n",
       "  </tbody>\n",
       "</table>\n",
       "</div>"
      ],
      "text/plain": [
       "llm              gpt-4o-mini  gemini-2.0-flash  deepseek-chat  \\\n",
       "judge_03_mini       2.000000          1.000000            3.0   \n",
       "judge_anthropic     2.000000          1.000000            3.0   \n",
       "judge_deepseek      2.000000          1.000000            3.0   \n",
       "judge_gemini        2.000000          1.000000            3.0   \n",
       "judge_groq          1.000000          2.000000            3.0   \n",
       "judge_ollama        1.000000          5.000000            3.0   \n",
       "mean                1.666667          1.833333            3.0   \n",
       "median              2.000000          1.000000            3.0   \n",
       "\n",
       "llm              llama-3.3-70b-versatile  claude-3-7-sonnet-latest  llama3  \n",
       "judge_03_mini                        4.0                       6.0     5.0  \n",
       "judge_anthropic                      4.0                       5.0     6.0  \n",
       "judge_deepseek                       4.0                       5.0     6.0  \n",
       "judge_gemini                         4.0                       6.0     5.0  \n",
       "judge_groq                           4.0                       6.0     5.0  \n",
       "judge_ollama                         4.0                       2.0     6.0  \n",
       "mean                                 4.0                       5.0     5.5  \n",
       "median                               4.0                       5.0     5.5  "
      ]
     },
     "execution_count": 125,
     "metadata": {},
     "output_type": "execute_result"
    }
   ],
   "source": [
    "result.T"
   ]
  },
  {
   "cell_type": "markdown",
   "id": "a8e8a8a2",
   "metadata": {},
   "source": [
    "Mean Rank is Borda Count - sensitive to extremes\n",
    "Median Rank is robust to outliers (e.g., ollama ranking gemini-2.0-flash as 5 when others say 1)"
   ]
  },
  {
   "cell_type": "code",
   "execution_count": null,
   "id": "bb80bd75",
   "metadata": {},
   "outputs": [
    {
     "name": "stdout",
     "output_type": "stream",
     "text": [
      "gpt-4o-mini                 0.097303\n",
      "gemini-2.0-flash            0.097087\n",
      "deepseek-chat               0.095238\n",
      "llama-3.3-70b-versatile     0.093750\n",
      "claude-3-7-sonnet-latest    0.092353\n",
      "llama3                      0.091608\n",
      "dtype: float64\n"
     ]
    }
   ],
   "source": [
    "#Use RRF if you care more about being ranked highly than low rankings.\n",
    "def RecipricalRankFusion(df, k=60):\n",
    "    scores = {}\n",
    "    for llm in df.index:\n",
    "        score = 0\n",
    "        for col in df.columns:\n",
    "            if col in [\"mean\", \"median\"]:\n",
    "                continue\n",
    "            score += 1 / (k + df.at[llm, col])\n",
    "        scores[llm] = score\n",
    "    return pd.Series(scores).sort_values(ascending=False)\n",
    "\n",
    "rrf_scores = RecipricalRankFusion(result)\n",
    "print(rrf_scores)"
   ]
  },
  {
   "cell_type": "code",
   "execution_count": 128,
   "id": "597c29ee",
   "metadata": {},
   "outputs": [
    {
     "data": {
      "text/plain": [
       "llm\n",
       "gemini-2.0-flash            4\n",
       "gpt-4o-mini                 2\n",
       "deepseek-chat               0\n",
       "llama-3.3-70b-versatile     0\n",
       "claude-3-7-sonnet-latest    0\n",
       "llama3                      0\n",
       "dtype: int64"
      ]
     },
     "execution_count": 128,
     "metadata": {},
     "output_type": "execute_result"
    }
   ],
   "source": [
    "#Plurality Vote (Top-N voting)\n",
    "(result.iloc[:, :-2] ==1).sum(axis=1).sort_values(ascending=False)"
   ]
  },
  {
   "cell_type": "code",
   "execution_count": null,
   "id": "93cb07f9",
   "metadata": {},
   "outputs": [],
   "source": [
    "Have to discount Ollama as less trustworthy (e.g. smaller model). So lean on median rank."
   ]
  }
 ],
 "metadata": {
  "kernelspec": {
   "display_name": ".venv",
   "language": "python",
   "name": "python3"
  },
  "language_info": {
   "codemirror_mode": {
    "name": "ipython",
    "version": 3
   },
   "file_extension": ".py",
   "mimetype": "text/x-python",
   "name": "python",
   "nbconvert_exporter": "python",
   "pygments_lexer": "ipython3",
   "version": "3.12.11"
  }
 },
 "nbformat": 4,
 "nbformat_minor": 5
}
